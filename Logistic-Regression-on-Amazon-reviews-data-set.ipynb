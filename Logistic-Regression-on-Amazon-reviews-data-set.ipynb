{
 "cells": [
  {
   "cell_type": "markdown",
   "metadata": {},
   "source": [
    "## Logistic Regression:"
   ]
  },
  {
   "cell_type": "markdown",
   "metadata": {},
   "source": [
    "#### Objective\n",
    "================\n",
    "1. Apply Logistic regression on all the four vectorizers.\n",
    "2. Before applying the model, please read the sklearn documentation and go through all\n",
    "the parameters that it can accept and try to use some in your assignment if you think that\n",
    "can help somehow\n",
    "3. Performing perturbation test:\n",
    "a. Get the weights W after fit your model with the data X.\n",
    "b. Add a noise to the X (X' = X + e) and get the new data set X' (if X is a sparse\n",
    "matrix, X.data+=e)\n",
    "c. we fit the model again on data X' and get the weights W'\n",
    "d. Add the small eps value(to eliminate the divisible by zero error) to W and W’ i.e\n",
    "W=W+10^-6 and W’ = W’+10^-6\n",
    "find the % change between W and W' (| (W-W') / (W) |)*100)\n",
    "e. print the features whose % change is more than a threshold x, (you need to\n",
    "choose this threshold using elbow method)\n",
    "\n",
    "4. Choose different metric other than accuracy for choosing the best hyperparameter,\n",
    "which is apt for imbalanced datasets and accuracy sometimes gives us false conclusions\n",
    "about the model performance sometimes.\n",
    "5. Do hyperparameter tuning or some feature engineering and make your model better by\n",
    "reducing the false positives. (Ex: adding the length of the reviews, getting some features\n",
    "from the summary column)\n",
    "6. Get important features for both positive and negative classes separately.\n",
    "7. Do sparsity and multicollinearity for any one of the vectorizers. Bow or tf-idf is\n",
    "recommended.\n",
    "8. Avoid submitting the models which are more biased towards positive points. Try to\n",
    "improve if everything or most of the points are predicting as positive."
   ]
  },
  {
   "cell_type": "code",
   "execution_count": 1,
   "metadata": {},
   "outputs": [
    {
     "name": "stderr",
     "output_type": "stream",
     "text": [
      "C:\\Users\\nisha\\Anaconda3\\lib\\site-packages\\gensim\\utils.py:1212: UserWarning: detected Windows; aliasing chunkize to chunkize_serial\n",
      "  warnings.warn(\"detected Windows; aliasing chunkize to chunkize_serial\")\n"
     ]
    }
   ],
   "source": [
    "%matplotlib inline\n",
    "import warnings\n",
    "warnings.filterwarnings(\"ignore\")\n",
    "\n",
    "import sqlite3\n",
    "import pandas as pd\n",
    "import numpy as np\n",
    "import nltk\n",
    "import string\n",
    "import matplotlib.pyplot as plt\n",
    "import seaborn as sns\n",
    "from sklearn.feature_extraction.text import TfidfTransformer\n",
    "from sklearn.feature_extraction.text import TfidfVectorizer\n",
    "\n",
    "from sklearn.feature_extraction.text import CountVectorizer\n",
    "from sklearn.metrics import confusion_matrix\n",
    "from sklearn import metrics\n",
    "from sklearn.metrics import roc_curve, auc\n",
    "from nltk.stem.porter import PorterStemmer\n",
    "\n",
    "import re\n",
    "# Tutorial about Python regular expressions: https://pymotw.com/2/re/\n",
    "import string\n",
    "\n",
    "from gensim.models import Word2Vec\n",
    "from gensim.models import KeyedVectors\n",
    "import pickle\n",
    "#taking cleaned data i.e in Reviews table  from final sql database\n",
    "#making connection with database \n",
    "conn = sqlite3.connect('final.sqlite') \n",
    "final = pd.read_sql_query(\"\"\" SELECT * FROM Reviews ORDER BY Time\"\"\", conn) \n"
   ]
  },
  {
   "cell_type": "code",
   "execution_count": 2,
   "metadata": {},
   "outputs": [
    {
     "name": "stdout",
     "output_type": "stream",
     "text": [
      "100000\n"
     ]
    }
   ],
   "source": [
    "final = final[:100000]\n",
    "print(len(final))"
   ]
  },
  {
   "cell_type": "code",
   "execution_count": 3,
   "metadata": {},
   "outputs": [],
   "source": [
    "CleanedText = final['CleanedText'];\n",
    "text=final.CleanedText.values\n",
    "#print(CleanedText)\n",
    "CleanedText_Class = [];\n",
    "for i in final['Score']:\n",
    "    if (i == 'positive'):\n",
    "        CleanedText_Class.append(1)\n",
    "    else:\n",
    "        CleanedText_Class.append(0)\n",
    "    "
   ]
  },
  {
   "cell_type": "markdown",
   "metadata": {},
   "source": [
    "### Spliting the original data into Train,CV and Test"
   ]
  },
  {
   "cell_type": "code",
   "execution_count": 4,
   "metadata": {},
   "outputs": [
    {
     "name": "stderr",
     "output_type": "stream",
     "text": [
      "C:\\Users\\nisha\\Anaconda3\\lib\\site-packages\\sklearn\\cross_validation.py:41: DeprecationWarning: This module was deprecated in version 0.18 in favor of the model_selection module into which all the refactored classes and functions are moved. Also note that the interface of the new CV iterators are different from that of this module. This module will be removed in 0.20.\n",
      "  \"This module will be removed in 0.20.\", DeprecationWarning)\n"
     ]
    }
   ],
   "source": [
    "# ============================== loading libraries ===========================================\n",
    "import numpy as np\n",
    "import pandas as pd\n",
    "import matplotlib.pyplot as plt\n",
    "from sklearn.cross_validation import train_test_split\n",
    "# from sklearn.neighbors import KNeighborsClassifier\n",
    "from sklearn.metrics import accuracy_score\n",
    "from sklearn.cross_validation import cross_val_score\n",
    "from collections import Counter\n",
    "from sklearn.metrics import accuracy_score\n",
    "from sklearn import cross_validation\n",
    "# ====================================\n",
    "# split the data set into train and test for BoW\n",
    "#X_1, X_test, y_1, y_test = cross_validation.train_test_split(X, y, test_size=0.3, random_state=0)\n",
    "X_1, X_test, y_1, y_test = cross_validation.train_test_split(text, CleanedText_Class, test_size=0.3, random_state=0)\n",
    "\n",
    "# split the train data set into cross validation train and cross validation test\n",
    "X_tr, X_cv, y_tr, y_cv = cross_validation.train_test_split(X_1, y_1, test_size=0.3)"
   ]
  },
  {
   "cell_type": "code",
   "execution_count": 5,
   "metadata": {},
   "outputs": [],
   "source": [
    "from sklearn.model_selection import GridSearchCV\n",
    "from sklearn.linear_model import LogisticRegression\n",
    "from sklearn.preprocessing import StandardScaler\n",
    "\n",
    "from tqdm import tqdm\n",
    "import os\n",
    "\n",
    "from sklearn.metrics import precision_score\n",
    "from sklearn.metrics import recall_score\n",
    "from sklearn.metrics import f1_score\n",
    "from wordcloud import WordCloud\n",
    "import seaborn as sns; \n",
    "def most_informative_feature_for_binary_classification(vectorizer, w,n_features,is_print = True):\n",
    "#     class_labels = classifier.classes_\n",
    "    feature_names = vectorizer.get_feature_names()\n",
    "    topn_class1 = sorted(zip(w, feature_names), reverse=False)[:n_features]\n",
    "    topn_class2 = sorted(zip(w, feature_names), reverse=True)[:n_features]\n",
    "#     print(feature_names)\n",
    "    if is_print == True:\n",
    "        print(\"\\nTop %s negative features\"% (n_features))\n",
    "        for w, feat in topn_class1:\n",
    "            print( w, feat)\n",
    "        \n",
    "        print(\"\\nTop %s positive features\" %(n_features))\n",
    "#         for w, feat in reversed(topn_class2):\n",
    "        for w, feat in topn_class2:\n",
    "            print(w, feat)\n",
    "        \n",
    "    else:\n",
    "        top_features_dict ={};\n",
    "        top_negative_features_name_list =[]\n",
    "        top_positive_features_name_list =[]\n",
    "        for coef, feat in topn_class1:\n",
    "            top_negative_features_name_list.append(feat)\n",
    "            \n",
    "#         for coef, feat in reversed(topn_class2):\n",
    "        for coef, feat in topn_class2:\n",
    "            top_positive_features_name_list.append(feat)\n",
    "            \n",
    "        top_features_dict ={\"top_negative_features_name_list\":top_negative_features_name_list,\"top_positive_features_name_list\":top_positive_features_name_list}\n",
    "        return top_features_dict;\n",
    "\n",
    "\n",
    "def top_features_wordcloud_generated_image_fun(features_list):\n",
    "    wordcloud = WordCloud(width=600, height=600, margin=0,background_color=\"white\").generate(\" \".join(features_list))\n",
    "    # Display the generated image:\n",
    "    plt.imshow(wordcloud, interpolation='bilinear')\n",
    "    plt.axis(\"off\")\n",
    "    plt.margins(x=0, y=0)\n",
    "    plt.show()\n",
    "    \n",
    "def collinear_features_fun(vectorizer, w):\n",
    "    feature_names = vectorizer.get_feature_names()\n",
    "    topn_class2 = sorted(zip(w, feature_names), reverse=True)[:] \n",
    "    features_list = []\n",
    "    for coef, feat in topn_class2:\n",
    "        if coef != 0.0 :\n",
    "            features_list.append(feat)\n",
    "                \n",
    "    collinear_features = features_list;\n",
    "    return collinear_features;\n",
    "    "
   ]
  },
  {
   "cell_type": "markdown",
   "metadata": {},
   "source": [
    "## Bow\n",
    "#### Applying Bow vectorizer on data"
   ]
  },
  {
   "cell_type": "code",
   "execution_count": 6,
   "metadata": {},
   "outputs": [],
   "source": [
    "#BOW \n",
    "from sklearn.feature_extraction.text import CountVectorizer\n",
    "vectorizer = CountVectorizer()\n",
    "vocabulary= vectorizer.fit(X_tr)\n",
    "#print(\"the shape of out text BOW vectorizer \",vocabulary.get_shape())\n",
    "#bow_x_tr.shape\n",
    "# bow_tr_array"
   ]
  },
  {
   "cell_type": "code",
   "execution_count": 7,
   "metadata": {},
   "outputs": [
    {
     "name": "stdout",
     "output_type": "stream",
     "text": [
      "the shape of out text BOW vectorizer  (49000, 26676)\n"
     ]
    }
   ],
   "source": [
    "bow_x_tr= vectorizer.transform(X_tr)\n",
    "print(\"the shape of out text BOW vectorizer \",bow_x_tr.get_shape())"
   ]
  },
  {
   "cell_type": "code",
   "execution_count": 8,
   "metadata": {},
   "outputs": [
    {
     "name": "stdout",
     "output_type": "stream",
     "text": [
      "the shape of out text BOW vectorizer  (21000, 26676)\n"
     ]
    }
   ],
   "source": [
    "bow_x_cv= vectorizer.transform(X_cv)\n",
    "print(\"the shape of out text BOW vectorizer \",bow_x_cv.get_shape())"
   ]
  },
  {
   "cell_type": "markdown",
   "metadata": {},
   "source": [
    "### Doing col-std on Bow train and CV"
   ]
  },
  {
   "cell_type": "code",
   "execution_count": 9,
   "metadata": {},
   "outputs": [
    {
     "name": "stderr",
     "output_type": "stream",
     "text": [
      "C:\\Users\\nisha\\Anaconda3\\lib\\site-packages\\sklearn\\utils\\validation.py:475: DataConversionWarning: Data with input dtype int64 was converted to float64 by StandardScaler.\n",
      "  warnings.warn(msg, DataConversionWarning)\n",
      "C:\\Users\\nisha\\Anaconda3\\lib\\site-packages\\sklearn\\utils\\validation.py:475: DataConversionWarning: Data with input dtype int64 was converted to float64 by StandardScaler.\n",
      "  warnings.warn(msg, DataConversionWarning)\n",
      "C:\\Users\\nisha\\Anaconda3\\lib\\site-packages\\sklearn\\utils\\validation.py:475: DataConversionWarning: Data with input dtype int64 was converted to float64 by StandardScaler.\n",
      "  warnings.warn(msg, DataConversionWarning)\n",
      "C:\\Users\\nisha\\Anaconda3\\lib\\site-packages\\sklearn\\utils\\validation.py:475: DataConversionWarning: Data with input dtype int64 was converted to float64 by StandardScaler.\n",
      "  warnings.warn(msg, DataConversionWarning)\n"
     ]
    }
   ],
   "source": [
    "scaler = StandardScaler(copy=True, with_mean=False, with_std=True)\n",
    "# print(scaler.fit(bow_x_tr))\n",
    "# print(scaler.mean_)\n",
    "Standardize_bow_x_tr= scaler.fit_transform(bow_x_tr)\n",
    "# print(Standardize_bow_x_tr)\n",
    "# print(scaler.mean_)\n",
    "Standardize_bow_x_cv= scaler.fit_transform(bow_x_cv)\n",
    "# print(Standardize_bow_x_cv)\n",
    "# print(scaler.mean_)"
   ]
  },
  {
   "cell_type": "markdown",
   "metadata": {},
   "source": [
    "### Apply GridSearch on Bow"
   ]
  },
  {
   "cell_type": "code",
   "execution_count": 10,
   "metadata": {},
   "outputs": [
    {
     "name": "stdout",
     "output_type": "stream",
     "text": [
      "LogisticRegression(C=0.01, class_weight=None, dual=False, fit_intercept=True,\n",
      "          intercept_scaling=1, max_iter=100, multi_class='ovr', n_jobs=1,\n",
      "          penalty='l2', random_state=None, solver='liblinear', tol=0.0001,\n",
      "          verbose=0, warm_start=False)\n",
      "0.9520186460203071\n"
     ]
    }
   ],
   "source": [
    "tuned_parameters = [{'C': [10**-4, 10**-2, 10**0, 10**2, 10**4]}]\n",
    "\n",
    "#Using GridSearchCV\n",
    "model = GridSearchCV(LogisticRegression(), tuned_parameters, scoring = 'f1', cv=5)\n",
    "model.fit(Standardize_bow_x_tr, y_tr)\n",
    "\n",
    "print(model.best_estimator_)\n",
    "print(model.score(Standardize_bow_x_cv, y_cv))"
   ]
  },
  {
   "cell_type": "markdown",
   "metadata": {},
   "source": [
    "### with optimal value of lambda using l1 reg on train data"
   ]
  },
  {
   "cell_type": "code",
   "execution_count": 10,
   "metadata": {},
   "outputs": [
    {
     "name": "stdout",
     "output_type": "stream",
     "text": [
      "\n",
      "The weighted f1_score of the LogisticRegression with l1 for C = 0.01  is 90.900182%\n",
      "\n",
      "fitting the model with l1 the Sparsity W  is 2279\n"
     ]
    }
   ],
   "source": [
    "## after getting optimal lambda with optimal value of lambda, performance of train with other matrix i.e weighted f1\n",
    "optimal_lambda = 0.01\n",
    "clf = LogisticRegression(C=optimal_lambda, penalty='l1');\n",
    "clf.fit(Standardize_bow_x_tr, y_tr);\n",
    "w = clf.coef_\n",
    "# print(np.count_nonzero(w))\n",
    "# predict the response\n",
    "pred = clf.predict(Standardize_bow_x_cv)\n",
    "\n",
    "# evaluate accuracy\n",
    "sc = f1_score(y_cv, pred,average=\"weighted\") * 100\n",
    "print('\\nThe weighted f1_score of the LogisticRegression with l1 for C = 0.01  is %f%%' % ( sc))\n",
    "print('\\nfitting the model with l1 the Sparsity W  is %d' % (np.count_nonzero(w)))"
   ]
  },
  {
   "cell_type": "markdown",
   "metadata": {},
   "source": [
    "## Performing perturbation test:"
   ]
  },
  {
   "cell_type": "markdown",
   "metadata": {},
   "source": [
    "*********************************** pertubation test Start *****************************************************"
   ]
  },
  {
   "cell_type": "markdown",
   "metadata": {},
   "source": [
    "#### After getting the weights W after fit your model with the train data X i.e Standardize_bow_x_tr.\n",
    "###### Adding noise to the X (X' = X + e) and get the new data set X' (if X is a sparse matrix, X.data+=e) that is e = 0.01\n",
    "###### we have sparse matrix so we will use X.data+=e"
   ]
  },
  {
   "cell_type": "code",
   "execution_count": 66,
   "metadata": {},
   "outputs": [
    {
     "name": "stdout",
     "output_type": "stream",
     "text": [
      "(49000, 26688)\n",
      "(49000, 26688)\n"
     ]
    }
   ],
   "source": [
    "print(Standardize_bow_x_tr.shape);\n",
    "Standardize_bow_x_tr_dash = Standardize_bow_x_tr\n",
    "Standardize_bow_x_tr_dash.data = Standardize_bow_x_tr_dash.data + 0.01;\n",
    "print(Standardize_bow_x_tr_dash.shape)"
   ]
  },
  {
   "cell_type": "markdown",
   "metadata": {},
   "source": [
    "#### we fit the model again on train data X' i.e Standardize_bow_x_tr_dash  and get the weights w_dash"
   ]
  },
  {
   "cell_type": "code",
   "execution_count": 67,
   "metadata": {},
   "outputs": [
    {
     "name": "stdout",
     "output_type": "stream",
     "text": [
      "\n",
      "The f1_score of the LogisticRegression with l1 for C = 0.01  is 95.496915%\n",
      "\n",
      " after pertubation fitting the model X with l1 the Sparsity W  is 2280\n"
     ]
    }
   ],
   "source": [
    "# More Sparsity (Fewer elements of W* being non-zero) by increasing Lambda (decreasing C) \n",
    "#afer adding some noise to the data \n",
    "clf = LogisticRegression(C=0.01, penalty='l1');\n",
    "clf.fit(Standardize_bow_x_tr_dash, y_tr);\n",
    "w_dash = clf.coef_\n",
    "# print(np.count_nonzero(w))\n",
    "# predict the response\n",
    "pred = clf.predict(Standardize_bow_x_cv)\n",
    "\n",
    "# evaluate accuracy\n",
    "sc = f1_score(y_cv, pred) * 100\n",
    "print('\\nThe f1_score of the LogisticRegression with l1 for C = 0.01  is %f%%' % ( sc))\n",
    "\n",
    "print('\\n after pertubation fitting the model X'' with l1 the Sparsity W''  is %d' % (np.count_nonzero(w_dash)))"
   ]
  },
  {
   "cell_type": "markdown",
   "metadata": {},
   "source": [
    "#### Add the small eps value(to eliminate the divisible by zero error) to W and W_dash i.e W=W+10^-6 and W_dash = W_dash+10^-6\n"
   ]
  },
  {
   "cell_type": "code",
   "execution_count": 68,
   "metadata": {},
   "outputs": [],
   "source": [
    "w = w[0] + 0.000001;\n",
    "w_dash = w_dash[0] +0.000001;\n",
    "W = list(w)\n",
    "W_Dash = list(w_dash)"
   ]
  },
  {
   "cell_type": "markdown",
   "metadata": {},
   "source": [
    "#### find the % change between W and W' (| (W-W') / (W) |)*100)"
   ]
  },
  {
   "cell_type": "code",
   "execution_count": 69,
   "metadata": {},
   "outputs": [
    {
     "name": "stderr",
     "output_type": "stream",
     "text": [
      "100%|████████████████████████████████████████████████████████████████████████| 26688/26688 [00:00<00:00, 445074.55it/s]\n"
     ]
    }
   ],
   "source": [
    "change_vector_percentage = []\n",
    "# count = 0;\n",
    "for i in tqdm(range(0,len(W))):\n",
    "    change_vector = 0\n",
    "    change_vector=(abs((W[i]-(W_Dash[i]))/(W[i])))*100\n",
    "    change_vector_percentage.append(change_vector)\n",
    "#     count = count+1;\n",
    "#     print(\"w = %f and w_dash = %f and chnage %f\"%(W[i] ,W_Dash[i],change_vector))\n",
    "\n"
   ]
  },
  {
   "cell_type": "markdown",
   "metadata": {},
   "source": [
    "#### calculating the 0th, 10th, 20th, 30th, ...100th percentiles, and observing any sudden rise in the values of percentage_change_vector\n",
    "\n"
   ]
  },
  {
   "cell_type": "code",
   "execution_count": 16,
   "metadata": {},
   "outputs": [
    {
     "data": {
      "image/png": "[encoded data removed]",
      "text/plain": [
       "<Figure size 432x288 with 1 Axes>"
      ]
     },
     "metadata": {},
     "output_type": "display_data"
    }
   ],
   "source": [
    "percentile_value = []\n",
    "percentile = []\n",
    "i= 0\n",
    "while i <100:\n",
    "    percentile.append(i)\n",
    "    percentile_value.append(np.percentile(change_vector_percentage,i))\n",
    "    i = i+1;\n",
    "    \n",
    "# percentile_value\n",
    "plt.plot(percentile, percentile_value, 'k--',label='chnage')\n",
    "plt.xlabel('percentile')\n",
    "plt.ylabel('percentage change')\n",
    "plt.title(\"percentile value\")\n",
    "plt.legend()\n",
    "plt.show()"
   ]
  },
  {
   "cell_type": "markdown",
   "metadata": {},
   "source": [
    "#### As we can see in our graph at approx between 90 and 100 we have sudden rise let's look it by printing percentile between 90 and 100"
   ]
  },
  {
   "cell_type": "code",
   "execution_count": 17,
   "metadata": {},
   "outputs": [
    {
     "data": {
      "image/png": "[encoded data removed]",
      "text/plain": [
       "<Figure size 432x288 with 1 Axes>"
      ]
     },
     "metadata": {},
     "output_type": "display_data"
    },
    {
     "name": "stdout",
     "output_type": "stream",
     "text": [
      "Percentile value from 90 to 99\n",
      "\n",
      "[90, 91, 92, 93, 94, 95, 96, 97, 98, 99]\n",
      "[0.0, 0.0, 0.020159442543854773, 0.052269603834834574, 0.08781353724260281, 0.14239281909487844, 0.25013147759295945, 0.523601557151551, 2.8118883126785033, 73.88894828928194]\n"
     ]
    }
   ],
   "source": [
    "ninty_percentile_val = []\n",
    "ninty_percentile = []\n",
    "j= 90\n",
    "while j <100:\n",
    "    ninty_percentile.append(j)\n",
    "    ninty_percentile_val.append(np.percentile(change_vector_percentage,j))\n",
    "    j = j+1;\n",
    "    \n",
    "plt.plot(ninty_percentile, ninty_percentile_val, 'k--',label='chnage')\n",
    "plt.xlabel('percentile')\n",
    "plt.ylabel('percentile change')\n",
    "plt.title(\"percentile_value\")\n",
    "plt.legend()\n",
    "plt.show()\n",
    "\n",
    "print(\"Percentile value from 90 to 99\\n\")\n",
    "print(ninty_percentile)\n",
    "print(ninty_percentile_val)\n"
   ]
  },
  {
   "cell_type": "markdown",
   "metadata": {},
   "source": [
    "#### As we can see its at 98 we are getting the elbow lets print the percentile between 98.0 and 99.0"
   ]
  },
  {
   "cell_type": "code",
   "execution_count": 50,
   "metadata": {},
   "outputs": [
    {
     "data": {
      "image/png": "[encoded data removed]",
      "text/plain": [
       "<Figure size 432x288 with 1 Axes>"
      ]
     },
     "metadata": {},
     "output_type": "display_data"
    },
    {
     "name": "stdout",
     "output_type": "stream",
     "text": [
      "Percentile value from 98.0 to 99.0\n",
      "\n",
      "[98, 98.1, 98.19999999999999, 98.29999999999998, 98.39999999999998, 98.49999999999997, 98.59999999999997, 98.69999999999996, 98.79999999999995, 98.89999999999995, 98.99999999999994]\n",
      "[2.8118883126785033, 3.8049729222408746, 6.513651530835544, 11.092098080301525, 15.50777873546066, 23.170988960363005, 31.273028306804147, 42.27482308671724, 51.529703857949826, 62.93721548916252, 73.88894828927036]\n"
     ]
    }
   ],
   "source": [
    "ninty_percentile_val = []\n",
    "ninty_percentile = []\n",
    "j= 98\n",
    "while j <=99:\n",
    "    ninty_percentile.append(j)\n",
    "    ninty_percentile_val.append(np.percentile(change_vector_percentage,j))\n",
    "    j = j+0.1;\n",
    "    \n",
    "plt.plot(ninty_percentile, ninty_percentile_val, 'r--',label='change')\n",
    "plt.xlabel('percentile')\n",
    "plt.ylabel('percentile change')\n",
    "plt.title(\"percentile_value\")\n",
    "plt.legend()\n",
    "plt.grid()\n",
    "plt.show()\n",
    "\n",
    "print(\"Percentile value from 98.0 to 99.0\\n\")\n",
    "print(ninty_percentile)\n",
    "print(ninty_percentile_val)\n"
   ]
  },
  {
   "cell_type": "markdown",
   "metadata": {},
   "source": [
    "##### As we can see above at 98.4 percentile we got our elbow and the value at that is 15.50 and that is our thresold \n",
    "#####  and after getting threshold the features I will print which has more than threshold why? -- they are the features which are affected by simple noise, so they are multicollinear with some other features if any of these features are in important features then we can't trust the top features.\n"
   ]
  },
  {
   "cell_type": "code",
   "execution_count": 70,
   "metadata": {},
   "outputs": [
    {
     "name": "stdout",
     "output_type": "stream",
     "text": [
      "408\n"
     ]
    }
   ],
   "source": [
    "w_with_greater_than_thresold = []\n",
    "# temp_weight = list(w[0])\n",
    "count = 0;\n",
    "for i in range(0,len(change_vector_percentage)):\n",
    "    if change_vector_percentage[i] > 15.50:\n",
    "        count = count +1;\n",
    "        w_with_greater_than_thresold.append(w[i])\n",
    "#         print(\"index i = %d weight = %f of and percentage change is %f\" %(i, (w[i]),change_vector_percentage[i]));\n",
    "    else:\n",
    "        w_with_greater_than_thresold.append(0.0)\n",
    "        \n",
    "print(count)\n",
    "# print(len(change_vector_percentage))\n",
    "# print(len(w[0]))"
   ]
  },
  {
   "cell_type": "markdown",
   "metadata": {},
   "source": [
    "###  Feature names whose % change is more than a threshold x (collinear_features)"
   ]
  },
  {
   "cell_type": "code",
   "execution_count": 81,
   "metadata": {},
   "outputs": [
    {
     "name": "stdout",
     "output_type": "stream",
     "text": [
      "['venison', 'grimyest', 'brunt', 'heksher', 'esselstyn', 'rooki', 'mink', 'thensuggest', 'botox', 'aagh', 'underworld', 'sissorhand', 'sweetgum', 'bambi', 'deic', 'loxi', 'fuctos', 'pokish', 'macduffi', 'hugrygirl', 'adrift', 'thwack', 'aardvark', 'stewrt', 'flamin', 'tommorow', 'ronni', 'gfi', 'ah', 'hooki', 'puka', 'corser', 'reincarn', 'picata', 'gookum', 'dya', 'surimi', 'comar', 'whippl', 'samui', 'napili', 'caldwel', 'gunni', 'mauro', 'metrx', 'enrichen', 'to', 'tentacl', 'addam', 'internatur', 'stich', 'underhand', 'iattc', 'fsm', 'sandworm', 'minion', 'kamehameha', 'costliest', 'giberish', 'healthi', 'peligrino', 'hhhhhhhotttttttt', 'po', 'garrison', 'considerationt', 'superpow', 'methanol', 'poptop', 'hodgepodg', 'cuss', 'soli', 'conventi', 'dabomb', 'bluebird', 'typhoon', 'lullabi', 'tromp', 'bagsonboard', 'hick', 'psychosomat', 'fuego', 'waimea', 'bevmo', 'oddest', 'espi', 'hottier', 'skillz', 'hydrant', 'vigil', 'interestng', 'gfer', 'monsieur', 'quoto', 'turner', 'whad', 'trenton', 'tinch', 'sucepan', 'stalest', 'scous', 'preztel', 'paleta', 'oteoporosi', 'obsolesc', 'jipin', 'genearlli', 'forign', 'danes', 'crackerjack', 'ciald', 'cheesh', 'phi', 'oxidaz', 'molido', 'immeasur', 'kuechenmeist', 'philosoph', 'savon', 'edif', 'fagin', 'optic', 'overclock', 'razmatazz', 'kreation', 'sledgehamm', 'soapwort', 'hoana', 'voter', 'mandi', 'schade', 'palanquin', 'adel', 'particl', 'inkl', 'origni', 'viney', 'felid', 'lunaci', 'referesh', 'incorper', 'kantrowitz', 'bilious', 'kismet', 'trott', 'goldman', 'planett', 'vanillaand', 'weavel', 'aghgghghhh', 'acquaint', 'ordererd', 'suds', 'obean', 'quail', 'yooooouuuuuuu', 'desapoint', 'moseley', 'madoff', 'overbalanc', 'crabber', 'foriegn', 'adovada', 'reoliz', 'mediuim', 'cocoon', 'patinkin', 'quezi', 'rebought', 'makeroullini', 'cusp', 'proscuitto', 'traver', 'canuba', 'congratualt', 'hrh', 'thast', 'whilt', 'sacrin', 'parmeson', 'slaughterhous', 'noah', 'dispoint', 'niki', 'vox', 'filth', 'canceal', 'watchdog', 'zig', 'chiou', 'maillard', 'augusta', 'reccoment', 'tation', 'manicur', 'schmo', 'regulatori', 'komissbrot', 'instrcut', 'jackfruit', 'woodshop', 'buttjuic', 'dicken', 'sach', 'writen', 'trist', 'positivi', 'insignia', 'glycogen', 'seeeeee', 'ablaz', 'kaff', 'longj', 'harbing', 'foruml', 'messur', 'rvcd', 'runnni', 'unbefit', 'phak', 'dollhous', 'csirk', 'lob', 'accepet', 'din', 'fermint', 'gust', 'regrat', 'tonypacko', 'comlet', 'laport', 'cardin', 'btach', 'toulous', 'squirmi', 'mack', 'eurofoodmart', 'wield', 'matusiak', 'burg', 'esophogus', 'nottttttttttttttttt', 'mixx', 'infertil', 'emeraldforestsugar', 'charactertist', 'paprikash', 'bellato', 'tic', 'creamora', 'zeb', 'disect', 'upholstri', 'ef', 'hydroxid', 'procces', 'repar', 'blowtorch', 'purn', 'shorelin', 'muchhh', 'nothing', 'dom', 'soppi', 'koquina', 'dustbin', 'exotica', 'pomgran', 'toxicolog', 'dickensian', 'leke', 'husbund', 'standart', 'unbelev', 'algerian', 'homeopathi', 'coral', 'bate', 'readind', 'enchlada', 'bionatur', 'healtlhi', 'compensatori', 'wesserman', 'humong', 'kuntz', 'sauciss', 'swich', 'ind', 'shasta', 'masnufactur', 'skywalk', 'corona', 'probuct', 'fluiditi', 'eewww', 'gouger', 'hinki', 'publicist', 'slum', 'andao', 'diahorrea', 'tac', 'cayot', 'zafrani', 'parbroil', 'wallmart', 'plausibl', 'tuo', 'voodoo', 'porcin', 'dualli', 'rona', 'wlike', 'forethought', 'emmenthal', 'dorota', 'forst', 'atst', 'tilda', 'totallllllllllllll', 'jeann', 'bloomberg', 'torqu', 'cocco', 'peripheri', 'bilg', 'lifecycl', 'arroyo', 'rudolf', 'kinnickinnick', 'zag', 'leaden', 'lethargi', 'solver', 'upperclass', 'centrifug', 'liverpool', 'pseudonoodl', 'obag', 'onz', 'carver', 'christmasi', 'othet', 'flavourless', 'fairer', 'westphalian', 'allus', 'moneybag', 'disqust', 'electrocut', 'cheroke', 'conciliatori', 'pelt', 'marzetti', 'empi', 'unmitig', 'silliest', 'kenobi', 'miscegen', 'osh', 'megalomart', 'masterfood', 'berthaut', 'rotari', 'endoscop', 'explanant', 'bastianich', 'hyperbol', 'comatos', 'stoli', 'frolick', 'kronung', 'irat', 'maiza', 'frash', 'ark', 'loct', 'twit', 'humanologist', 'puch', 'energyboost', 'generasl', 'matsing', 'packo', 'papper', 'josephin', 'catkin', 'quck', 'schmegecki', 'stronggg', 'lizard', 'astrolog', 'blaach', 'chimayo', 'savemart', 'corect', 'sevencup', 'accordng', 'remenb', 'involuntarili', 'welllll', 'analys', 'piazza', 'proccess', 'reasonan', 'flutd', 'monger', 'bellota']\n"
     ]
    }
   ],
   "source": [
    "features_with_greater_than_thresold = collinear_features_fun(vectorizer,w_with_greater_than_thresold)\n",
    "print(features_with_greater_than_thresold)"
   ]
  },
  {
   "cell_type": "code",
   "execution_count": 79,
   "metadata": {},
   "outputs": [
    {
     "data": {
      "image/png": "[encoded data removed]",
      "text/plain": [
       "<Figure size 432x288 with 1 Axes>"
      ]
     },
     "metadata": {},
     "output_type": "display_data"
    }
   ],
   "source": [
    "top_features_wordcloud_generated_image_fun(features_with_greater_than_thresold)"
   ]
  },
  {
   "cell_type": "markdown",
   "metadata": {},
   "source": [
    "*********************************** pertubation test Ends *****************************************************"
   ]
  },
  {
   "cell_type": "markdown",
   "metadata": {},
   "source": [
    "## Getting Top important Features for Both the Class"
   ]
  },
  {
   "cell_type": "code",
   "execution_count": 31,
   "metadata": {},
   "outputs": [
    {
     "name": "stdout",
     "output_type": "stream",
     "text": [
      "\n",
      "Top 10 negative features\n",
      "-0.28890341715424744 disappoint\n",
      "-0.21334441063112916 worst\n",
      "-0.1700453232113178 terribl\n",
      "-0.16148273767396576 aw\n",
      "-0.14090148938905467 bad\n",
      "-0.13446195847666262 unfortun\n",
      "-0.13323899974025405 money\n",
      "-0.13309229083108887 would\n",
      "-0.1300940760309349 horribl\n",
      "-0.1270421540332491 return\n",
      "\n",
      "Top 10 positive features\n",
      "0.6095259218706532 great\n",
      "0.45837238593224516 love\n",
      "0.43745995683343253 best\n",
      "0.3760858808759966 delici\n",
      "0.3036665132602096 perfect\n",
      "0.2827081793163093 excel\n",
      "0.2774050602651199 good\n",
      "0.23540424953637562 favorit\n",
      "0.20330285013595453 wonder\n",
      "0.20106032252511727 nice\n"
     ]
    }
   ],
   "source": [
    "most_informative_feature_for_binary_classification(vectorizer,w[0],10)"
   ]
  },
  {
   "cell_type": "code",
   "execution_count": 32,
   "metadata": {},
   "outputs": [],
   "source": [
    "top_features = most_informative_feature_for_binary_classification(vectorizer,w[0],20,False)"
   ]
  },
  {
   "cell_type": "markdown",
   "metadata": {},
   "source": [
    "### Top Negative Feaures "
   ]
  },
  {
   "cell_type": "code",
   "execution_count": 33,
   "metadata": {},
   "outputs": [
    {
     "data": {
      "image/png": "[encoded data removed]",
      "text/plain": [
       "<Figure size 432x288 with 1 Axes>"
      ]
     },
     "metadata": {},
     "output_type": "display_data"
    }
   ],
   "source": [
    "top_features_wordcloud_generated_image_fun(top_features[\"top_negative_features_name_list\"])"
   ]
  },
  {
   "cell_type": "markdown",
   "metadata": {},
   "source": [
    "### Top Positive Features"
   ]
  },
  {
   "cell_type": "code",
   "execution_count": 34,
   "metadata": {},
   "outputs": [
    {
     "data": {
      "image/png": "[encoded data removed]",
      "text/plain": [
       "<Figure size 432x288 with 1 Axes>"
      ]
     },
     "metadata": {},
     "output_type": "display_data"
    }
   ],
   "source": [
    "top_features_wordcloud_generated_image_fun(top_features[\"top_positive_features_name_list\"])"
   ]
  },
  {
   "cell_type": "markdown",
   "metadata": {},
   "source": [
    "## LogisticRegression implementation with l1 and l2 reg After getting optimal lambda"
   ]
  },
  {
   "cell_type": "markdown",
   "metadata": {},
   "source": [
    "### with optimal value of lambda using l2 reg on train data "
   ]
  },
  {
   "cell_type": "code",
   "execution_count": 36,
   "metadata": {},
   "outputs": [
    {
     "name": "stdout",
     "output_type": "stream",
     "text": [
      "\n",
      "The weighted f1_score of the LogisticRegression with l2 for C = 0.01  is 91.255422%\n"
     ]
    }
   ],
   "source": [
    "## after getting optimal lambda with optimal value of lambda, performance of train with other matrix i.e weighted f1\n",
    "optimal_lambda = 0.01\n",
    "clf = LogisticRegression(C=optimal_lambda, penalty='l2');\n",
    "clf.fit(Standardize_bow_x_tr, y_tr);\n",
    "w = clf.coef_\n",
    "# print(np.count_nonzero(w))\n",
    "# predict the response\n",
    "pred = clf.predict(Standardize_bow_x_cv)\n",
    "\n",
    "# evaluate accuracy\n",
    "sc = f1_score(y_cv, pred,average=\"weighted\") * 100\n",
    "print('\\nThe weighted f1_score of the LogisticRegression with l2 for C = 0.01  is %f%%' % ( sc))\n",
    "# print('\\nfitting the model with l1 the Sparsity W  is %d' % (np.count_nonzero(w)))"
   ]
  },
  {
   "cell_type": "markdown",
   "metadata": {},
   "source": [
    "### With change in Hyperparameter "
   ]
  },
  {
   "cell_type": "code",
   "execution_count": 94,
   "metadata": {},
   "outputs": [],
   "source": [
    "i= 0.0001;\n",
    "Sparsity_list = []\n",
    "lambda_list = []\n",
    "performance_list = []\n",
    "while i< 100:\n",
    "    clf = LogisticRegression(C=i, penalty='l1');\n",
    "    clf.fit(Standardize_bow_x_tr, y_tr);\n",
    "    w = clf.coef_\n",
    "    pred = clf.predict(Standardize_bow_x_cv)\n",
    "    # evaluate f1_score\n",
    "    sc = f1_score(y_cv, pred) * 100\n",
    "#     print(\"-------------------------------------------------------\")\n",
    "#     print('\\nThe f1_score of the LogisticRegression with l1 for C = %f  is %f%%' % (i, sc))\n",
    "#     print('\\nfitting the model with l1 the Sparsity W  is %d' % (np.count_nonzero(w)))\n",
    "    Sparsity_list.append(np.count_nonzero(w))\n",
    "    lambda_list.append(i)\n",
    "    performance_list.append(sc)\n",
    "    i=i*10;\n",
    "    \n",
    " "
   ]
  },
  {
   "cell_type": "markdown",
   "metadata": {},
   "source": [
    "### Ploting the Graph for lambda and Sparsity "
   ]
  },
  {
   "cell_type": "code",
   "execution_count": 96,
   "metadata": {},
   "outputs": [
    {
     "data": {
      "image/png": "[encoded data removed]",
      "text/plain": [
       "<Figure size 432x288 with 1 Axes>"
      ]
     },
     "metadata": {},
     "output_type": "display_data"
    },
    {
     "name": "stdout",
     "output_type": "stream",
     "text": [
      "[0.0001, 0.001, 0.01, 0.1, 1.0, 10.0]\n",
      "[0, 29, 2207, 7330, 9278, 11442]\n"
     ]
    }
   ],
   "source": [
    "plt.plot(lambda_list, Sparsity_list, 'ks--',label='Sparsity')\n",
    "plt.xlabel('lambda ')\n",
    "plt.ylabel('feature_count')\n",
    "plt.title(\"Sparsity Graph\")\n",
    "plt.legend()\n",
    "plt.show()\n",
    "print(lambda_list)\n",
    "print(Sparsity_list)"
   ]
  },
  {
   "cell_type": "markdown",
   "metadata": {},
   "source": [
    "### Ploting the Graph for lambda and Performance"
   ]
  },
  {
   "cell_type": "code",
   "execution_count": 98,
   "metadata": {},
   "outputs": [
    {
     "data": {
      "image/png": "[encoded data removed]",
      "text/plain": [
       "<Figure size 432x288 with 1 Axes>"
      ]
     },
     "metadata": {},
     "output_type": "display_data"
    },
    {
     "name": "stdout",
     "output_type": "stream",
     "text": [
      "[0.0001, 0.001, 0.01, 0.1, 1.0, 10.0]\n",
      "[93.5577069288864, 93.80913622952487, 95.45764847975634, 95.41491159820782, 93.98797049778189, 92.55921305709732]\n"
     ]
    }
   ],
   "source": [
    "plt.plot(lambda_list, performance_list, 'b^--' ,label='performance')\n",
    "plt.xlabel('lambda')\n",
    "plt.ylabel('performance_list')\n",
    "plt.title(\"Performance Graph \")\n",
    "plt.legend()\n",
    "plt.grid()\n",
    "plt.show()\n",
    "print(lambda_list)\n",
    "print(performance_list)"
   ]
  },
  {
   "cell_type": "markdown",
   "metadata": {},
   "source": [
    "### Apply RandomizedSearchCV on Bow"
   ]
  },
  {
   "cell_type": "code",
   "execution_count": 63,
   "metadata": {},
   "outputs": [
    {
     "name": "stdout",
     "output_type": "stream",
     "text": [
      "LogisticRegression(C=0.9931798006924732, class_weight=None, dual=False,\n",
      "          fit_intercept=True, intercept_scaling=1, max_iter=100,\n",
      "          multi_class='ovr', n_jobs=1, penalty='l2', random_state=None,\n",
      "          solver='liblinear', tol=0.0001, verbose=0, warm_start=False)\n",
      "0.9272045336326553\n"
     ]
    }
   ],
   "source": [
    "from sklearn.model_selection import RandomizedSearchCV\n",
    "Randomized_parameters = {'C': np.random.uniform(0.0001,10,10000)}\n",
    "\n",
    "#Using GridSearchCV\n",
    "model = RandomizedSearchCV(LogisticRegression(), Randomized_parameters, scoring = 'f1', cv=5)\n",
    "model.fit(Standardize_bow_x_tr, y_tr)\n",
    "\n",
    "print(model.best_estimator_)\n",
    "print(model.score(Standardize_bow_x_cv, y_cv))"
   ]
  },
  {
   "cell_type": "markdown",
   "metadata": {},
   "source": [
    "### Performance measure of Test Data on Trained Model with optimal value of lambda with different performance metrix"
   ]
  },
  {
   "cell_type": "code",
   "execution_count": 11,
   "metadata": {},
   "outputs": [
    {
     "name": "stdout",
     "output_type": "stream",
     "text": [
      "the shape of out text BOW vectorizer  (30000, 26676)\n"
     ]
    },
    {
     "name": "stderr",
     "output_type": "stream",
     "text": [
      "C:\\Users\\nisha\\Anaconda3\\lib\\site-packages\\sklearn\\utils\\validation.py:475: DataConversionWarning: Data with input dtype int64 was converted to float64 by StandardScaler.\n",
      "  warnings.warn(msg, DataConversionWarning)\n",
      "C:\\Users\\nisha\\Anaconda3\\lib\\site-packages\\sklearn\\utils\\validation.py:475: DataConversionWarning: Data with input dtype int64 was converted to float64 by StandardScaler.\n",
      "  warnings.warn(msg, DataConversionWarning)\n"
     ]
    }
   ],
   "source": [
    "# vectorizing the test data into Bow for model implimentation \n",
    "bow_x_test= vectorizer.transform(X_test)\n",
    "print(\"the shape of out text BOW vectorizer \",bow_x_test.get_shape())\n",
    "\n",
    "Standardize_bow_x_test= scaler.fit_transform(bow_x_test)\n",
    "# print(Standardize_bow_x_test)\n",
    "# print(scaler.mean_)"
   ]
  },
  {
   "cell_type": "code",
   "execution_count": 43,
   "metadata": {},
   "outputs": [
    {
     "name": "stdout",
     "output_type": "stream",
     "text": [
      "\n",
      "The weighted f1_score of the LogisticRegression with l1 for C = 0.010000  is 90.456263%\n"
     ]
    }
   ],
   "source": [
    "#apply LogisticRegression,l1 reg ,with performace weighted matrix f1_score on bow with optimal value of lambda \n",
    "clf = LogisticRegression(C=optimal_lambda, penalty='l1');\n",
    "clf.fit(Standardize_bow_x_tr, y_tr);\n",
    "# predict the response\n",
    "pred = clf.predict(Standardize_bow_x_test)\n",
    "\n",
    "# evaluate weighted f1_score\n",
    "sc = f1_score(y_test, pred,average=\"weighted\") * 100\n",
    "print('\\nThe weighted f1_score of the LogisticRegression with l1 for C = %f  is %f%%' % (optimal_lambda, sc))"
   ]
  },
  {
   "cell_type": "code",
   "execution_count": 44,
   "metadata": {},
   "outputs": [
    {
     "name": "stdout",
     "output_type": "stream",
     "text": [
      "\n",
      "The f1_score of the LogisticRegression with l1 for C = 0.010000  is 95.354325%\n"
     ]
    }
   ],
   "source": [
    "#apply LogisticRegression,l1 reg ,with performace matrix f1_score on bow with optimal value of lambda \n",
    "clf = LogisticRegression(C=optimal_lambda, penalty='l1');\n",
    "clf.fit(Standardize_bow_x_tr, y_tr);\n",
    "# predict the response\n",
    "pred = clf.predict(Standardize_bow_x_test)\n",
    "\n",
    "# evaluate f1_score\n",
    "sc = f1_score(y_test, pred) * 100\n",
    "print('\\nThe f1_score of the LogisticRegression with l1 for C = %f  is %f%%' % (optimal_lambda, sc))"
   ]
  },
  {
   "cell_type": "code",
   "execution_count": 45,
   "metadata": {},
   "outputs": [
    {
     "name": "stdout",
     "output_type": "stream",
     "text": [
      "\n",
      "The recall_score of the LogisticRegression with l1 for C = 0.010000  is 98.551995%\n"
     ]
    }
   ],
   "source": [
    "#apply LogisticRegression,l1 reg ,with performace recall_score on bow with optimal value of lambda \n",
    "clf = LogisticRegression(C=optimal_lambda, penalty='l1');\n",
    "clf.fit(Standardize_bow_x_tr, y_tr);\n",
    "# predict the response\n",
    "pred = clf.predict(Standardize_bow_x_test)\n",
    "# evaluate recall_score\n",
    "sc = recall_score(y_test, pred) * 100\n",
    "print('\\nThe recall_score of the LogisticRegression with l1 for C = %f  is %f%%' % (optimal_lambda, sc))"
   ]
  },
  {
   "cell_type": "code",
   "execution_count": 46,
   "metadata": {},
   "outputs": [
    {
     "name": "stdout",
     "output_type": "stream",
     "text": [
      "\n",
      "The precision_score of the LogisticRegression with l1 for C = 0.010000  is 92.358507%\n"
     ]
    }
   ],
   "source": [
    "#apply LogisticRegression,l1 reg ,with performace precision_score on bow with optimal value of lambda \n",
    "clf = LogisticRegression(C=optimal_lambda, penalty='l1');\n",
    "clf.fit(Standardize_bow_x_tr, y_tr);\n",
    "# predict the response\n",
    "pred = clf.predict(Standardize_bow_x_test)\n",
    "# evaluate precision_score\n",
    "sc = precision_score(y_test, pred) * 100\n",
    "print('\\nThe precision_score of the LogisticRegression with l1 for C = %f  is %f%%' % (optimal_lambda, sc))"
   ]
  },
  {
   "cell_type": "code",
   "execution_count": 47,
   "metadata": {},
   "outputs": [
    {
     "name": "stdout",
     "output_type": "stream",
     "text": [
      "\n",
      "The confusion_matrix of the LogisticRegression with l1 for C = 0.010000 \n",
      "[[ 1618  2139]\n",
      " [  380 25863]]\n"
     ]
    },
    {
     "data": {
      "image/png": "[encoded data removed]",
      "text/plain": [
       "<Figure size 432x288 with 2 Axes>"
      ]
     },
     "metadata": {},
     "output_type": "display_data"
    }
   ],
   "source": [
    "#apply LogisticRegression,l1 reg ,with performace confusion_matrix on bow with optimal value of lambda \n",
    "clf = LogisticRegression(C=optimal_lambda, penalty='l1');\n",
    "clf.fit(Standardize_bow_x_tr, y_tr);\n",
    "# predict the response\n",
    "pred = clf.predict(Standardize_bow_x_test)\n",
    "# evaluate confusion_matrix\n",
    "confusion_matrix_val = confusion_matrix(y_test, pred)\n",
    "print('\\nThe confusion_matrix of the LogisticRegression with l1 for C = %f ' % (optimal_lambda))\n",
    "print(confusion_matrix_val);\n",
    "\n",
    "cunfusion_lable = confusion_matrix_val\n",
    "ax = sns.heatmap(confusion_matrix_val,annot=cunfusion_lable, fmt='')"
   ]
  },
  {
   "cell_type": "code",
   "execution_count": 48,
   "metadata": {},
   "outputs": [
    {
     "name": "stdout",
     "output_type": "stream",
     "text": [
      "\n",
      " Test confusion_matrix for alpha = 0.010000 \n",
      "\n",
      "******* for BOW *********\n",
      "\n",
      "****TPR is 98%\n",
      "\n",
      "****FPR is 56%\n",
      "\n",
      "****FNR is 1%\n",
      "\n",
      "****TNR is 43%\n"
     ]
    }
   ],
   "source": [
    "#apply LogisticRegression,l1 reg ,with performace confusion_matrix on bow with optimal value of lambda \n",
    "clf = LogisticRegression(C=optimal_lambda, penalty='l1');\n",
    "clf.fit(Standardize_bow_x_tr, y_tr);\n",
    "# predict the response\n",
    "pred = clf.predict(Standardize_bow_x_test)\n",
    "# evaluate confusion_matrix\n",
    "tn, fp, fn, tp = confusion_matrix(y_test, pred).ravel() \n",
    "print(\"\\n Test confusion_matrix for alpha = %f \" %(optimal_lambda))\n",
    "\n",
    "TPR = ((tp)/(fn+tp)) * float(100);\n",
    "FPR = (fp)/(tn+fp) * float(100);\n",
    "FNR = (fn)/(fn+tp) * float(100);\n",
    "TNR = (tn)/(tn+fp) * float(100)\n",
    "print('\\n******* for BOW *********')\n",
    "print('\\n****TPR is %d%%' % (TPR))\n",
    "print('\\n****FPR is %d%%' % (FPR))\n",
    "print('\\n****FNR is %d%%' % (FNR))\n",
    "print('\\n****TNR is %d%%' % (TNR))"
   ]
  },
  {
   "cell_type": "markdown",
   "metadata": {},
   "source": [
    "*********Bow Ends***"
   ]
  },
  {
   "cell_type": "markdown",
   "metadata": {},
   "source": [
    "## TF-IDF"
   ]
  },
  {
   "cell_type": "code",
   "execution_count": 12,
   "metadata": {},
   "outputs": [],
   "source": [
    "#tfidf \n",
    "tf_idf_vect = TfidfVectorizer(ngram_range=(1,2))\n",
    "vocabulary = tf_idf_vect.fit(X_tr)\n",
    "#print(\"the shape of out text TF-IDF vectorizer \",tf_idf_x_tr.get_shape())"
   ]
  },
  {
   "cell_type": "code",
   "execution_count": 13,
   "metadata": {},
   "outputs": [
    {
     "name": "stdout",
     "output_type": "stream",
     "text": [
      "the shape of out text TF-IDF vectorizer  (49000, 727227)\n"
     ]
    }
   ],
   "source": [
    "tf_idf_x_tr = tf_idf_vect.transform(X_tr)\n",
    "print(\"the shape of out text TF-IDF vectorizer \",tf_idf_x_tr.get_shape())"
   ]
  },
  {
   "cell_type": "code",
   "execution_count": 14,
   "metadata": {},
   "outputs": [
    {
     "name": "stdout",
     "output_type": "stream",
     "text": [
      "the shape of out text TF-IDF vectorizer  (21000, 727227)\n"
     ]
    }
   ],
   "source": [
    "tf_idf_x_cv = tf_idf_vect.transform(X_cv)\n",
    "print(\"the shape of out text TF-IDF vectorizer \",tf_idf_x_cv.get_shape())"
   ]
  },
  {
   "cell_type": "markdown",
   "metadata": {},
   "source": [
    "###  col-std on TF-IDF train and CV"
   ]
  },
  {
   "cell_type": "code",
   "execution_count": 15,
   "metadata": {},
   "outputs": [],
   "source": [
    "scaler = StandardScaler(copy=True, with_mean=False, with_std=True)\n",
    "# print(scaler.fit(bow_x_tr))\n",
    "# print(scaler.mean_)\n",
    "Standardize_tf_idf_x_tr= scaler.fit_transform(tf_idf_x_tr)\n",
    "# print(Standardize_bow_x_tr)\n",
    "# print(scaler.mean_)\n",
    "Standardize_tf_idf_x_cv= scaler.fit_transform(tf_idf_x_cv)\n",
    "# print(Standardize_bow_x_cv)\n",
    "# print(scaler.mean_)"
   ]
  },
  {
   "cell_type": "markdown",
   "metadata": {},
   "source": [
    "### Apply GridSearch on TF-IDF"
   ]
  },
  {
   "cell_type": "code",
   "execution_count": 53,
   "metadata": {},
   "outputs": [
    {
     "name": "stdout",
     "output_type": "stream",
     "text": [
      "LogisticRegression(C=100, class_weight=None, dual=False, fit_intercept=True,\n",
      "          intercept_scaling=1, max_iter=100, multi_class='ovr', n_jobs=1,\n",
      "          penalty='l2', random_state=None, solver='liblinear', tol=0.0001,\n",
      "          verbose=0, warm_start=False)\n",
      "0.9448686192895994\n"
     ]
    }
   ],
   "source": [
    "#code source: http://occam.olin.edu/sites/default/files/DataScienceMaterials/machine_learning_lecture_2/Machine%20Learning%20Lecture%202.html\n",
    "tuned_parameters = [{'C': [10**-4, 10**-2, 10**0, 10**2, 10**4]}]\n",
    "\n",
    "#Using GridSearchCV\n",
    "model = GridSearchCV(LogisticRegression(), tuned_parameters, scoring = 'f1', cv=5)\n",
    "model.fit(Standardize_tf_idf_x_tr, y_tr)\n",
    "\n",
    "print(model.best_estimator_)\n",
    "print(model.score(Standardize_tf_idf_x_cv, y_cv))"
   ]
  },
  {
   "cell_type": "markdown",
   "metadata": {},
   "source": [
    "#### with optimal value of lambda using l1 reg on train data"
   ]
  },
  {
   "cell_type": "code",
   "execution_count": 16,
   "metadata": {},
   "outputs": [
    {
     "name": "stdout",
     "output_type": "stream",
     "text": [
      "\n",
      "The f1_score of the LogisticRegression with l1 for C = 100.000000  is 94.422372%\n",
      "\n",
      "fitting the model with l1 the Sparsity W  is 141178\n"
     ]
    }
   ],
   "source": [
    "tfidf_optimal_lambda = 100\n",
    "clf = LogisticRegression(C=tfidf_optimal_lambda, penalty='l1');\n",
    "clf.fit(Standardize_tf_idf_x_tr, y_tr);\n",
    "w = clf.coef_\n",
    "# print(np.count_nonzero(w))\n",
    "# predict the response\n",
    "pred = clf.predict(Standardize_tf_idf_x_cv)\n",
    "\n",
    "# evaluate accuracy\n",
    "sc = f1_score(y_cv, pred) * 100\n",
    "print('\\nThe f1_score of the LogisticRegression with l1 for C = %f  is %f%%' % (tfidf_optimal_lambda, sc))\n",
    "print('\\nfitting the model with l1 the Sparsity W  is %d' % (np.count_nonzero(w)))"
   ]
  },
  {
   "cell_type": "markdown",
   "metadata": {},
   "source": [
    "### Getting Top important Features for Both the Class"
   ]
  },
  {
   "cell_type": "code",
   "execution_count": 56,
   "metadata": {},
   "outputs": [
    {
     "name": "stdout",
     "output_type": "stream",
     "text": [
      "\n",
      "Top 10 negative features\n",
      "-0.3573112053506788 aw\n",
      "-0.14553847125238942 dont wast\n",
      "-0.13460295406364797 disappoint\n",
      "-0.1241063225116893 didnt tast\n",
      "-0.11552011498851367 disappoint product\n",
      "-0.11445652971756992 although dog\n",
      "-0.11419099887816245 avoid product\n",
      "-0.11098886289317822 bad batch\n",
      "-0.1106123309234584 bland\n",
      "-0.10829501815408205 condit good\n",
      "\n",
      "Top 10 positive features\n",
      "0.6965841480996122 delici\n",
      "0.5069662991098497 add\n",
      "0.4858527295364267 best\n",
      "0.37601093253363843 cant\n",
      "0.36485028046837986 better\n",
      "0.33921929724272104 anoth\n",
      "0.326640790555078 arriv\n",
      "0.32180995396179346 buy\n",
      "0.31955035838236867 altern\n",
      "0.31598152406655045 bread\n"
     ]
    }
   ],
   "source": [
    "most_informative_feature_for_binary_classification(tf_idf_vect,w[0],10)"
   ]
  },
  {
   "cell_type": "code",
   "execution_count": 57,
   "metadata": {},
   "outputs": [],
   "source": [
    "top_features = most_informative_feature_for_binary_classification(tf_idf_vect,w[0],20,False)"
   ]
  },
  {
   "cell_type": "markdown",
   "metadata": {},
   "source": [
    "### Top Negative features"
   ]
  },
  {
   "cell_type": "code",
   "execution_count": 58,
   "metadata": {},
   "outputs": [
    {
     "data": {
      "image/png": "[encoded data removed]",
      "text/plain": [
       "<Figure size 432x288 with 1 Axes>"
      ]
     },
     "metadata": {},
     "output_type": "display_data"
    }
   ],
   "source": [
    "top_features_wordcloud_generated_image_fun(top_features[\"top_negative_features_name_list\"])"
   ]
  },
  {
   "cell_type": "markdown",
   "metadata": {},
   "source": [
    "### Top Positive features"
   ]
  },
  {
   "cell_type": "code",
   "execution_count": 60,
   "metadata": {},
   "outputs": [
    {
     "data": {
      "image/png": "[encoded data removed]",
      "text/plain": [
       "<Figure size 432x288 with 1 Axes>"
      ]
     },
     "metadata": {},
     "output_type": "display_data"
    }
   ],
   "source": [
    "top_features_wordcloud_generated_image_fun(top_features[\"top_positive_features_name_list\"])"
   ]
  },
  {
   "cell_type": "markdown",
   "metadata": {},
   "source": [
    "### with optimal value of lambda using l2 reg on train data"
   ]
  },
  {
   "cell_type": "code",
   "execution_count": 17,
   "metadata": {},
   "outputs": [
    {
     "name": "stdout",
     "output_type": "stream",
     "text": [
      "\n",
      "The f1_score of the LogisticRegression with l1 for C = 100.000000  is 94.109515%\n",
      "\n",
      "fitting the model with l2 the Sparsity W  is 728808\n"
     ]
    }
   ],
   "source": [
    "# tfidf_optimal_lambda = 100\n",
    "clf = LogisticRegression(C=tfidf_optimal_lambda, penalty='l2');\n",
    "clf.fit(Standardize_tf_idf_x_tr, y_tr);\n",
    "w = clf.coef_\n",
    "# print(np.count_nonzero(w))\n",
    "# predict the response\n",
    "pred = clf.predict(Standardize_tf_idf_x_cv)\n",
    "\n",
    "# evaluate accuracy\n",
    "sc = f1_score(y_cv, pred) * 100\n",
    "print('\\nThe f1_score of the LogisticRegression with l1 for C = %f  is %f%%' % (tfidf_optimal_lambda, sc))\n",
    "print('\\nfitting the model with l2 the Sparsity W  is %d' % (np.count_nonzero(w)))"
   ]
  },
  {
   "cell_type": "markdown",
   "metadata": {},
   "source": [
    "### With change in HyperParameter"
   ]
  },
  {
   "cell_type": "code",
   "execution_count": 104,
   "metadata": {},
   "outputs": [],
   "source": [
    "i= 0.0001;\n",
    "Sparsity_list = []\n",
    "lambda_list = []\n",
    "performance_list = []\n",
    "while i< 100:\n",
    "    clf = LogisticRegression(C=i, penalty='l1');\n",
    "    clf.fit(Standardize_tf_idf_x_tr, y_tr);\n",
    "    w = clf.coef_\n",
    "    # predict the response\n",
    "    pred = clf.predict(Standardize_tf_idf_x_cv)\n",
    "\n",
    "    # evaluate f1_score\n",
    "    sc = f1_score(y_cv, pred) * 100\n",
    "#     print(\"-------------------------------------------------------\")\n",
    "#     print('\\nThe f1_score of the LogisticRegression with l1 for C = %f  is %f%%' % (i, sc))\n",
    "#     print('\\nfitting the model with l1 the Sparsity W  is %d' % (np.count_nonzero(w)))\n",
    "    Sparsity_list.append(np.count_nonzero(w))\n",
    "    lambda_list.append(i)\n",
    "    performance_list.append(sc)\n",
    "    i=i*10; "
   ]
  },
  {
   "cell_type": "markdown",
   "metadata": {},
   "source": [
    "### Ploting the Graph for lambda and Sparsity"
   ]
  },
  {
   "cell_type": "code",
   "execution_count": 105,
   "metadata": {},
   "outputs": [
    {
     "data": {
      "image/png": "[encoded data removed]",
      "text/plain": [
       "<Figure size 432x288 with 1 Axes>"
      ]
     },
     "metadata": {},
     "output_type": "display_data"
    },
    {
     "name": "stdout",
     "output_type": "stream",
     "text": [
      "[0.0001, 0.001, 0.01, 0.1, 1.0, 10.0]\n",
      "[0, 38, 17074, 29528, 31612, 49509]\n"
     ]
    }
   ],
   "source": [
    "plt.plot(lambda_list, Sparsity_list, 'ks--',label='Sparsity')\n",
    "plt.xlabel('lambda')\n",
    "plt.ylabel('feature_count')\n",
    "plt.title(\"Sparsity Graph\")\n",
    "plt.legend()\n",
    "plt.show()\n",
    "print(lambda_list)\n",
    "print(Sparsity_list)"
   ]
  },
  {
   "cell_type": "markdown",
   "metadata": {},
   "source": [
    "### Ploting the Graph for lambda and Performance"
   ]
  },
  {
   "cell_type": "code",
   "execution_count": 107,
   "metadata": {},
   "outputs": [
    {
     "data": {
      "image/png": "[encoded data removed]",
      "text/plain": [
       "<Figure size 432x288 with 1 Axes>"
      ]
     },
     "metadata": {},
     "output_type": "display_data"
    },
    {
     "name": "stdout",
     "output_type": "stream",
     "text": [
      "[0.0001, 0.001, 0.01, 0.1, 1.0, 10.0]\n",
      "[93.5577069288864, 93.90622613653719, 95.56719937123394, 95.30992222484093, 95.26949241234955, 95.18722124260968]\n"
     ]
    }
   ],
   "source": [
    "plt.plot(lambda_list, performance_list, 'b^--' ,label='performance')\n",
    "plt.xlabel('lambda')\n",
    "plt.ylabel('performance')\n",
    "plt.title(\"Performance Graph \")\n",
    "plt.legend()\n",
    "plt.grid()\n",
    "plt.show()\n",
    "print(lambda_list)\n",
    "print(performance_list)"
   ]
  },
  {
   "cell_type": "markdown",
   "metadata": {},
   "source": [
    "### Apply RandomizedSearchCV on TF-IDF"
   ]
  },
  {
   "cell_type": "code",
   "execution_count": 26,
   "metadata": {},
   "outputs": [
    {
     "name": "stdout",
     "output_type": "stream",
     "text": [
      "LogisticRegression(C=7.843835189344414, class_weight=None, dual=False,\n",
      "          fit_intercept=True, intercept_scaling=1, max_iter=100,\n",
      "          multi_class='ovr', n_jobs=1, penalty='l2', random_state=None,\n",
      "          solver='liblinear', tol=0.0001, verbose=0, warm_start=False)\n",
      "0.9457388105456774\n"
     ]
    }
   ],
   "source": [
    "from sklearn.model_selection import RandomizedSearchCV\n",
    "Randomized_parameters = {'C': np.random.uniform(0.0001,10,10000)}\n",
    "\n",
    "#Using GridSearchCV\n",
    "model = RandomizedSearchCV(LogisticRegression(), Randomized_parameters, scoring = 'f1', cv=5)\n",
    "model.fit(Standardize_tf_idf_x_tr, y_tr)\n",
    "\n",
    "print(model.best_estimator_)\n",
    "print(model.score(Standardize_tf_idf_x_cv, y_cv))"
   ]
  },
  {
   "cell_type": "markdown",
   "metadata": {},
   "source": [
    "### Performance measure of Test Data on Trained Model with optimal value of lambda with different performance metrix\n"
   ]
  },
  {
   "cell_type": "code",
   "execution_count": 17,
   "metadata": {},
   "outputs": [
    {
     "name": "stdout",
     "output_type": "stream",
     "text": [
      "the shape of out text TF-IDF vectorizer  (30000, 727227)\n"
     ]
    }
   ],
   "source": [
    "tf_idf_x_test= tf_idf_vect.transform(X_test)\n",
    "print(\"the shape of out text TF-IDF vectorizer \",tf_idf_x_test.get_shape())"
   ]
  },
  {
   "cell_type": "code",
   "execution_count": 18,
   "metadata": {},
   "outputs": [],
   "source": [
    "Standardize_tf_idf_x_test= scaler.fit_transform(tf_idf_x_test)\n",
    "# print(Standardize_bow_x_test)\n",
    "# print(scaler.mean_)"
   ]
  },
  {
   "cell_type": "code",
   "execution_count": 75,
   "metadata": {},
   "outputs": [
    {
     "name": "stdout",
     "output_type": "stream",
     "text": [
      "\n",
      "The weighted f1_score of the LogisticRegression with l1 for C = 100.000000  is 86.725086%\n"
     ]
    }
   ],
   "source": [
    "#apply LogisticRegression,l1 reg ,with performace weighted f1_score on TF-IDF with optimal value of lambda \n",
    "clf = LogisticRegression(C=tfidf_optimal_lambda, penalty='l1');\n",
    "clf.fit(Standardize_tf_idf_x_tr, y_tr);\n",
    "# predict the response\n",
    "pred = clf.predict(Standardize_tf_idf_x_test)\n",
    "\n",
    "# evaluate weighted f1_score\n",
    "sc = f1_score(y_test, pred,average=\"weighted\") * 100\n",
    "print('\\nThe weighted f1_score of the LogisticRegression with l1 for C = %f  is %f%%' % (tfidf_optimal_lambda, sc))"
   ]
  },
  {
   "cell_type": "code",
   "execution_count": 76,
   "metadata": {},
   "outputs": [
    {
     "name": "stdout",
     "output_type": "stream",
     "text": [
      "\n",
      "The f1_score of the LogisticRegression with l1 for C = 100.000000  is 94.130261%\n"
     ]
    }
   ],
   "source": [
    "#apply LogisticRegression,l1 reg ,with performace matrix f1_score on TF-IDF with optimal value of lambda \n",
    "clf = LogisticRegression(C=tfidf_optimal_lambda, penalty='l1');\n",
    "clf.fit(Standardize_tf_idf_x_tr, y_tr);\n",
    "# predict the response\n",
    "pred = clf.predict(Standardize_tf_idf_x_test)\n",
    "\n",
    "# evaluate f1_score\n",
    "sc = f1_score(y_test, pred) * 100\n",
    "print('\\nThe f1_score of the LogisticRegression with l1 for C = %f  is %f%%' % (tfidf_optimal_lambda, sc))"
   ]
  },
  {
   "cell_type": "code",
   "execution_count": 77,
   "metadata": {},
   "outputs": [
    {
     "name": "stdout",
     "output_type": "stream",
     "text": [
      "\n",
      "The recall_score of the LogisticRegression with l1 for C = 100.000000  is 98.769196%\n"
     ]
    }
   ],
   "source": [
    "#apply LogisticRegression,l1 reg ,with performace recall_score on TF-IDF with optimal value of lambda \n",
    "clf = LogisticRegression(C=tfidf_optimal_lambda, penalty='l1');\n",
    "clf.fit(Standardize_tf_idf_x_tr, y_tr);\n",
    "# predict the response\n",
    "pred = clf.predict(Standardize_tf_idf_x_test)\n",
    "\n",
    "# evaluate recall_score\n",
    "sc = recall_score(y_test, pred) * 100\n",
    "print('\\nThe recall_score of the LogisticRegression with l1 for C = %f  is %f%%' % (tfidf_optimal_lambda, sc))"
   ]
  },
  {
   "cell_type": "code",
   "execution_count": 78,
   "metadata": {},
   "outputs": [
    {
     "name": "stdout",
     "output_type": "stream",
     "text": [
      "\n",
      "The precision_score of the LogisticRegression with l1 for C = 100.000000  is 89.881324%\n"
     ]
    }
   ],
   "source": [
    "#apply LogisticRegression,l1 reg ,with performace precision_score on TF-IDF with optimal value of lambda \n",
    "clf = LogisticRegression(C=tfidf_optimal_lambda, penalty='l1');\n",
    "clf.fit(Standardize_tf_idf_x_tr, y_tr);\n",
    "# predict the response\n",
    "pred = clf.predict(Standardize_tf_idf_x_test)\n",
    "# evaluate precision_score\n",
    "sc = precision_score(y_test, pred) * 100\n",
    "print('\\nThe precision_score of the LogisticRegression with l1 for C = %f  is %f%%' % (tfidf_optimal_lambda, sc))"
   ]
  },
  {
   "cell_type": "code",
   "execution_count": 79,
   "metadata": {},
   "outputs": [
    {
     "name": "stdout",
     "output_type": "stream",
     "text": [
      "\n",
      "The confusion_matrix of the LogisticRegression with l1 for C = 100.000000 \n",
      "[[  907  2850]\n",
      " [  343 25900]]\n"
     ]
    },
    {
     "data": {
      "image/png": "[encoded data removed]",
      "text/plain": [
       "<Figure size 432x288 with 2 Axes>"
      ]
     },
     "metadata": {},
     "output_type": "display_data"
    }
   ],
   "source": [
    "#apply LogisticRegression,l1 reg ,with performace confusion_matrix on TF-IDF with optimal value of alpha \n",
    "clf = LogisticRegression(C=tfidf_optimal_lambda, penalty='l1');\n",
    "clf.fit(Standardize_tf_idf_x_tr, y_tr);\n",
    "# predict the response\n",
    "pred = clf.predict(Standardize_tf_idf_x_test)\n",
    "# evaluate confusion_matrix\n",
    "confusion_matrix_val = confusion_matrix(y_test, pred)\n",
    "print('\\nThe confusion_matrix of the LogisticRegression with l1 for C = %f ' % (tfidf_optimal_lambda))\n",
    "print(confusion_matrix_val);\n",
    "\n",
    "cunfusion_lable = confusion_matrix_val\n",
    "ax = sns.heatmap(confusion_matrix_val,annot=cunfusion_lable, fmt='')"
   ]
  },
  {
   "cell_type": "code",
   "execution_count": null,
   "metadata": {},
   "outputs": [],
   "source": []
  },
  {
   "cell_type": "code",
   "execution_count": 80,
   "metadata": {},
   "outputs": [
    {
     "name": "stdout",
     "output_type": "stream",
     "text": [
      "\n",
      " Test confusion_matrix for alpha = 100.000000 \n",
      "\n",
      "******* for TF-IDF *********\n",
      "\n",
      "****TPR is 98%\n",
      "\n",
      "****FPR is 76%\n",
      "\n",
      "****FNR is 1%\n",
      "\n",
      "****TNR is 23%\n"
     ]
    }
   ],
   "source": [
    "#apply LogisticRegression,l1 reg ,with performace confusion_matrix on TF-IDF with optimal value of lambda \n",
    "clf = LogisticRegression(C=tfidf_optimal_lambda, penalty='l1');\n",
    "clf.fit(Standardize_tf_idf_x_tr, y_tr);\n",
    "# predict the response\n",
    "pred = clf.predict(Standardize_tf_idf_x_test)\n",
    "# evaluate confusion_matrix\n",
    "tn, fp, fn, tp = confusion_matrix(y_test, pred).ravel() \n",
    "print(\"\\n Test confusion_matrix for alpha = %f \" %(tfidf_optimal_lambda))\n",
    "\n",
    "TPR = ((tp)/(fn+tp)) * float(100);\n",
    "FPR = (fp)/(tn+fp) * float(100);\n",
    "FNR = (fn)/(fn+tp) * float(100);\n",
    "TNR = (tn)/(tn+fp) * float(100)\n",
    "print('\\n******* for TF-IDF *********')\n",
    "print('\\n****TPR is %d%%' % (TPR))\n",
    "print('\\n****FPR is %d%%' % (FPR))\n",
    "print('\\n****FNR is %d%%' % (FNR))\n",
    "print('\\n****TNR is %d%%' % (TNR))"
   ]
  },
  {
   "cell_type": "markdown",
   "metadata": {},
   "source": [
    "*********TF-IDF Ends***"
   ]
  },
  {
   "cell_type": "markdown",
   "metadata": {},
   "source": [
    "## Word2Vec"
   ]
  },
  {
   "cell_type": "code",
   "execution_count": 19,
   "metadata": {},
   "outputs": [
    {
     "name": "stdout",
     "output_type": "stream",
     "text": [
      "49000\n"
     ]
    }
   ],
   "source": [
    "#Word2Vec mode \n",
    "#spliting train sentence in words \n",
    "# Train your own Word2Vec model using your own text corpus\n",
    "i=0\n",
    "X_tr_list_of_sent=[]\n",
    "for sent in X_tr:\n",
    "    X_tr_list_of_sent.append(sent.split())\n",
    "    \n",
    "print(len(X_tr))\n",
    "# print(\"\\n--------------Spliting each sentence into words--------word list of ie data corpus---------\\n\")\n",
    "# print(X_tr_list_of_sent[:2])\n",
    "#word list of ie data corpus"
   ]
  },
  {
   "cell_type": "code",
   "execution_count": 20,
   "metadata": {},
   "outputs": [
    {
     "data": {
      "text/plain": [
       "26676"
      ]
     },
     "execution_count": 20,
     "metadata": {},
     "output_type": "execute_result"
    }
   ],
   "source": [
    "#The Word to Vec model produces a vocabulary, with each word being represented by \n",
    "#an n-dimensional numpy array \n",
    "X_tr_w2v_model=Word2Vec(X_tr_list_of_sent,min_count=1,size=50, workers=4)\n",
    "X_tr_w2v_model.wv['man']\n",
    "wlist =list(X_tr_w2v_model.wv.vocab)\n",
    "# wlist is a list of words \n",
    "len(wlist)"
   ]
  },
  {
   "cell_type": "markdown",
   "metadata": {},
   "source": [
    "#### Train for Avgword2vec"
   ]
  },
  {
   "cell_type": "code",
   "execution_count": 21,
   "metadata": {},
   "outputs": [
    {
     "name": "stderr",
     "output_type": "stream",
     "text": [
      "100%|███████████████████████████████████████████████████████████████████████████| 49000/49000 [01:30<00:00, 539.83it/s]\n"
     ]
    },
    {
     "name": "stdout",
     "output_type": "stream",
     "text": [
      "49000\n",
      "50\n"
     ]
    }
   ],
   "source": [
    "#CALCULATE AVG WORD2VEC FOR x_tr\n",
    "w2v_words = list(X_tr_w2v_model.wv.vocab)\n",
    "# compute average word2vec for each review.\n",
    "X_tr_sent_vectors = []; # the avg-w2v for each sentence/review is stored in this list\n",
    "for sent in tqdm(X_tr_list_of_sent): # for each review/sentence\n",
    "    sent_vec = np.zeros(50) # as word vectors are of zero length\n",
    "    cnt_words =0; # num of words with a valid vector in the sentence/review\n",
    "    for word in sent: # for each word in a review/sentence\n",
    "        if word in w2v_words:\n",
    "            vec = X_tr_w2v_model.wv[word]\n",
    "            sent_vec += vec\n",
    "            cnt_words += 1\n",
    "    if cnt_words != 0:\n",
    "        sent_vec /= cnt_words\n",
    "    X_tr_sent_vectors.append(sent_vec)\n",
    "print(len(X_tr_sent_vectors))\n",
    "print(len(X_tr_sent_vectors[0]))"
   ]
  },
  {
   "cell_type": "markdown",
   "metadata": {},
   "source": [
    "#### CV for Avgword2vec"
   ]
  },
  {
   "cell_type": "code",
   "execution_count": 22,
   "metadata": {},
   "outputs": [],
   "source": [
    "#spliting cv sentence in words \n",
    "i=0\n",
    "X_cv_list_of_sent=[]\n",
    "for sent in X_cv:\n",
    "    X_cv_list_of_sent.append(sent.split())\n",
    "    \n",
    "#word list of ie data corpus"
   ]
  },
  {
   "cell_type": "code",
   "execution_count": 23,
   "metadata": {},
   "outputs": [
    {
     "name": "stderr",
     "output_type": "stream",
     "text": [
      "100%|███████████████████████████████████████████████████████████████████████████| 21000/21000 [00:47<00:00, 440.42it/s]\n"
     ]
    },
    {
     "name": "stdout",
     "output_type": "stream",
     "text": [
      "21000\n",
      "50\n"
     ]
    }
   ],
   "source": [
    "#CALCULATE AVG WORD2VEC FOR x_cv \n",
    "# w2v_words = list(X_cv_w2v_model.wv.vocab)\n",
    "w2v_words = list(X_tr_w2v_model.wv.vocab)\n",
    "\n",
    "# compute average word2vec for each review in cv .\n",
    "X_cv_sent_vectors = []; # the avg-w2v for each sentence/review is stored in this list\n",
    "for sent in tqdm(X_cv_list_of_sent): # for each review/sentence\n",
    "    sent_vec = np.zeros(50) # as word vectors are of zero length\n",
    "    cnt_words =0; # num of words with a valid vector in the sentence/review\n",
    "    for word in sent: # for each word in a review/sentence\n",
    "        if word in w2v_words:\n",
    "#             vec = X_cv_w2v_model.wv[word]\n",
    "            vec = X_tr_w2v_model.wv[word]\n",
    "            sent_vec += vec\n",
    "            cnt_words += 1\n",
    "    if cnt_words != 0:\n",
    "        sent_vec /= cnt_words\n",
    "    X_cv_sent_vectors.append(sent_vec)\n",
    "print(len(X_cv_sent_vectors))\n",
    "print(len(X_cv_sent_vectors[0]))"
   ]
  },
  {
   "cell_type": "markdown",
   "metadata": {},
   "source": [
    "### Avgword2vec on Test data "
   ]
  },
  {
   "cell_type": "code",
   "execution_count": 24,
   "metadata": {},
   "outputs": [
    {
     "name": "stdout",
     "output_type": "stream",
     "text": [
      "30000\n"
     ]
    }
   ],
   "source": [
    "#Train your own Word2Vec model using your own text corpus\n",
    "#spliting test sentence in words \n",
    "i=0\n",
    "X_test_list_of_sent=[]\n",
    "for sent in X_test:\n",
    "    X_test_list_of_sent.append(sent.split())\n",
    "    \n",
    "print(len(X_test_list_of_sent))"
   ]
  },
  {
   "cell_type": "code",
   "execution_count": 25,
   "metadata": {},
   "outputs": [
    {
     "name": "stderr",
     "output_type": "stream",
     "text": [
      "100%|███████████████████████████████████████████████████████████████████████████| 30000/30000 [01:05<00:00, 456.08it/s]\n"
     ]
    },
    {
     "name": "stdout",
     "output_type": "stream",
     "text": [
      "30000\n",
      "50\n"
     ]
    }
   ],
   "source": [
    "#CALCULATE AVG WORD2VEC FOR x_test\n",
    "# w2v_words = list(X_test_w2v_model.wv.vocab)\n",
    "\n",
    "w2v_words = list(X_tr_w2v_model.wv.vocab)\n",
    "\n",
    "# compute average word2vec for each review.\n",
    "X_test_sent_vectors = []; # the avg-w2v for each sentence/review is stored in this list\n",
    "for sent in tqdm(X_test_list_of_sent): # for each review/sentence\n",
    "    sent_vec = np.zeros(50) # as word vectors are of zero length\n",
    "    cnt_words =0; # num of words with a valid vector in the sentence/review\n",
    "    for word in sent: # for each word in a review/sentence\n",
    "        if word in w2v_words:\n",
    "#             vec = X_test_w2v_model.wv[word]\n",
    "            vec = X_tr_w2v_model.wv[word]\n",
    "            sent_vec += vec\n",
    "            cnt_words += 1\n",
    "    if cnt_words != 0:\n",
    "        sent_vec /= cnt_words\n",
    "    X_test_sent_vectors.append(sent_vec)\n",
    "print(len(X_test_sent_vectors))\n",
    "print(len(X_test_sent_vectors[0]))"
   ]
  },
  {
   "cell_type": "markdown",
   "metadata": {},
   "source": [
    "### col-std on Avg word2vec train , CV and test"
   ]
  },
  {
   "cell_type": "code",
   "execution_count": 27,
   "metadata": {},
   "outputs": [],
   "source": [
    "scaler = StandardScaler(copy=True, with_mean=False, with_std=True)\n",
    "# print(scaler.fit(bow_x_tr))\n",
    "# print(scaler.mean_)\n",
    "Standardize_X_tr_sent_vectors= scaler.fit_transform(X_tr_sent_vectors)\n",
    "# print(Standardize_bow_x_tr)\n",
    "# print(scaler.mean_)\n",
    "Standardize_X_cv_sent_vectors= scaler.fit_transform(X_cv_sent_vectors)\n",
    "# print(Standardize_bow_x_cv)\n",
    "# print(scaler.mean_)\n",
    "Standardize_X_test_sent_vectors= scaler.fit_transform(X_test_sent_vectors)\n",
    "# print(Standardize_bow_x_test)\n",
    "# print(scaler.mean_)"
   ]
  },
  {
   "cell_type": "markdown",
   "metadata": {},
   "source": [
    "### GridSearchCV on Avg word2vec"
   ]
  },
  {
   "cell_type": "code",
   "execution_count": 90,
   "metadata": {},
   "outputs": [
    {
     "name": "stdout",
     "output_type": "stream",
     "text": [
      "LogisticRegression(C=100, class_weight=None, dual=False, fit_intercept=True,\n",
      "          intercept_scaling=1, max_iter=100, multi_class='ovr', n_jobs=1,\n",
      "          penalty='l2', random_state=None, solver='liblinear', tol=0.0001,\n",
      "          verbose=0, warm_start=False)\n",
      "0.8932246320833327\n"
     ]
    }
   ],
   "source": [
    "#code source: http://occam.olin.edu/sites/default/files/DataScienceMaterials/machine_learning_lecture_2/Machine%20Learning%20Lecture%202.html\n",
    "\n",
    "tuned_parameters = [{'C': [10**-4, 10**-2, 10**0, 10**2, 10**4]}]\n",
    "\n",
    "#Using GridSearchCV\n",
    "model = GridSearchCV(LogisticRegression(), tuned_parameters, scoring = 'f1_weighted', cv=5)\n",
    "model.fit(Standardize_X_tr_sent_vectors, y_tr)\n",
    "\n",
    "print(model.best_estimator_)\n",
    "print(model.score(Standardize_X_cv_sent_vectors, y_cv))"
   ]
  },
  {
   "cell_type": "markdown",
   "metadata": {},
   "source": [
    "#### with l1 reg on logistic regression apply f1_score as performance matrix on train with cv data with optimal lambda"
   ]
  },
  {
   "cell_type": "code",
   "execution_count": 28,
   "metadata": {},
   "outputs": [
    {
     "name": "stdout",
     "output_type": "stream",
     "text": [
      "\n",
      "The f1_score of the LogisticRegression with l1 for C = 100.000000  is 94.806966%\n",
      "\n",
      "fitting the model with l1 the Sparsity W  is 50\n"
     ]
    }
   ],
   "source": [
    "#with l1 reg on logistic regression apply f1_score as performance matrix on train with cv data\n",
    "Avg_word2vec_optimal_lambda = 100\n",
    "clf = LogisticRegression(C=Avg_word2vec_optimal_lambda, penalty='l1');\n",
    "clf.fit(Standardize_X_tr_sent_vectors, y_tr);\n",
    "w = clf.coef_\n",
    "# print(np.count_nonzero(w))\n",
    "# predict the response\n",
    "pred = clf.predict(Standardize_X_cv_sent_vectors)\n",
    "\n",
    "# evaluate f1_score\n",
    "sc = f1_score(y_cv, pred) * 100\n",
    "print('\\nThe f1_score of the LogisticRegression with l1 for C = %f  is %f%%' % (Avg_word2vec_optimal_lambda, sc))\n",
    "print('\\nfitting the model with l1 the Sparsity W  is %d' % (np.count_nonzero(w)))"
   ]
  },
  {
   "cell_type": "markdown",
   "metadata": {},
   "source": [
    "#### with l2 reg on logistic regression apply f1_score as performance matrix on train with cv data with optimal lambda"
   ]
  },
  {
   "cell_type": "code",
   "execution_count": 29,
   "metadata": {},
   "outputs": [
    {
     "name": "stdout",
     "output_type": "stream",
     "text": [
      "\n",
      "The f1_score of the LogisticRegression with l2 for C = 100.000000  is 94.801721%\n"
     ]
    }
   ],
   "source": [
    "#with l2 reg on logistic regression apply f1_score as performance matrix on train with cv data\n",
    "clf = LogisticRegression(C=Avg_word2vec_optimal_lambda, penalty='l2');\n",
    "clf.fit(Standardize_X_tr_sent_vectors, y_tr);\n",
    "w = clf.coef_\n",
    "# print(np.count_nonzero(w))\n",
    "# predict the response\n",
    "pred = clf.predict(Standardize_X_cv_sent_vectors)\n",
    "\n",
    "# evaluate f1_score\n",
    "sc = f1_score(y_cv, pred) * 100\n",
    "print('\\nThe f1_score of the LogisticRegression with l2 for C = %f  is %f%%' % (Avg_word2vec_optimal_lambda, sc))"
   ]
  },
  {
   "cell_type": "markdown",
   "metadata": {},
   "source": [
    "### With change in HyperParameter"
   ]
  },
  {
   "cell_type": "code",
   "execution_count": 117,
   "metadata": {},
   "outputs": [],
   "source": [
    "#Applying L1 reg with change in lambda\n",
    "i= 0.0001;\n",
    "Sparsity_list = []\n",
    "lambda_list = []\n",
    "performance_list = []\n",
    "while i< 100:\n",
    "    clf = LogisticRegression(C=i, penalty='l1');\n",
    "    clf.fit(Standardize_X_tr_sent_vectors, y_tr);\n",
    "    w = clf.coef_\n",
    "    # predict the response\n",
    "    pred = clf.predict(Standardize_X_cv_sent_vectors)\n",
    "\n",
    "    # evaluate f1_score\n",
    "    sc = f1_score(y_cv, pred) * 100\n",
    "#     print(\"-------------------------------------------------------\")\n",
    "#     print('\\nThe f1_score of the LogisticRegression with l1 for C = %f  is %f%%' % (i, sc))\n",
    "#     print('\\nfitting the model with l1 the Sparsity W  is %d' % (np.count_nonzero(w)))\n",
    "    Sparsity_list.append(np.count_nonzero(w))\n",
    "    lambda_list.append(i)\n",
    "    performance_list.append(sc)\n",
    "    i=i*10; "
   ]
  },
  {
   "cell_type": "markdown",
   "metadata": {},
   "source": [
    "#### Graph for feature_count(Sparsity) with increase in lambda value  "
   ]
  },
  {
   "cell_type": "code",
   "execution_count": 118,
   "metadata": {},
   "outputs": [
    {
     "data": {
      "image/png": "[encoded data removed]",
      "text/plain": [
       "<Figure size 432x288 with 1 Axes>"
      ]
     },
     "metadata": {},
     "output_type": "display_data"
    },
    {
     "name": "stdout",
     "output_type": "stream",
     "text": [
      "[0.0001, 0.001, 0.01, 0.1, 1.0, 10.0]\n",
      "[5, 18, 41, 50, 50, 50]\n"
     ]
    }
   ],
   "source": [
    "#Graph for feature_count(Sparsity) with increase in lambda value\n",
    "plt.plot(lambda_list, Sparsity_list, 'ks--',label='Sparsity')\n",
    "plt.xlabel('lambda')\n",
    "plt.ylabel('feature_count')\n",
    "plt.title(\"Sparsity Graph\")\n",
    "plt.legend()\n",
    "plt.show()\n",
    "print(lambda_list)\n",
    "print(Sparsity_list)"
   ]
  },
  {
   "cell_type": "markdown",
   "metadata": {},
   "source": [
    "#### Graph  for performance of the model with increase(change) in lambda value "
   ]
  },
  {
   "cell_type": "code",
   "execution_count": 120,
   "metadata": {},
   "outputs": [
    {
     "data": {
      "image/png": "[encoded data removed]",
      "text/plain": [
       "<Figure size 432x288 with 1 Axes>"
      ]
     },
     "metadata": {},
     "output_type": "display_data"
    },
    {
     "name": "stdout",
     "output_type": "stream",
     "text": [
      "[0.0001, 0.001, 0.01, 0.1, 1.0, 10.0]\n",
      "[93.54225298547196, 93.79693028228168, 94.59283047440013, 94.66747184078557, 94.66992408122522, 94.66715704303054]\n"
     ]
    }
   ],
   "source": [
    "#Graph for performance of the model with increase(change) in lambda value\n",
    "plt.plot(lambda_list, performance_list, 'b^--' ,label='performance')\n",
    "plt.xlabel('lambda')\n",
    "plt.ylabel('performance %')\n",
    "plt.title(\"Performance Graph \")\n",
    "plt.legend()\n",
    "plt.grid()\n",
    "plt.show()\n",
    "\n",
    "print(lambda_list)\n",
    "print(performance_list)"
   ]
  },
  {
   "cell_type": "markdown",
   "metadata": {},
   "source": [
    "### RandomizedSearchCV on train data for getting optimal lambda "
   ]
  },
  {
   "cell_type": "code",
   "execution_count": 98,
   "metadata": {},
   "outputs": [
    {
     "name": "stdout",
     "output_type": "stream",
     "text": [
      "LogisticRegression(C=5.166978903284563, class_weight=None, dual=False,\n",
      "          fit_intercept=True, intercept_scaling=1, max_iter=100,\n",
      "          multi_class='ovr', n_jobs=1, penalty='l2', random_state=None,\n",
      "          solver='liblinear', tol=0.0001, verbose=0, warm_start=False)\n",
      "0.8932246320833327\n"
     ]
    }
   ],
   "source": [
    "#RandomizedSearchCV on train data for getting optimal lambda\n",
    "from sklearn.model_selection import RandomizedSearchCV\n",
    "Randomized_parameters = {'C': np.random.uniform(0.0001,10,10000)}\n",
    "\n",
    "#Using GridSearchCV\n",
    "model = RandomizedSearchCV(LogisticRegression(), Randomized_parameters, scoring = 'f1_weighted', cv=5)\n",
    "model.fit(Standardize_X_tr_sent_vectors, y_tr)\n",
    "\n",
    "print(model.best_estimator_)\n",
    "print(model.score(Standardize_X_cv_sent_vectors, y_cv))"
   ]
  },
  {
   "cell_type": "code",
   "execution_count": null,
   "metadata": {},
   "outputs": [],
   "source": []
  },
  {
   "cell_type": "markdown",
   "metadata": {},
   "source": [
    "### Performance measure of Test Data on Trained Model with optimal value of lambda"
   ]
  },
  {
   "cell_type": "code",
   "execution_count": 99,
   "metadata": {},
   "outputs": [
    {
     "name": "stdout",
     "output_type": "stream",
     "text": [
      "\n",
      "The weighted f1_score of the LogisticRegression with l1 for C = 100.000000  is 88.333678%\n"
     ]
    }
   ],
   "source": [
    "###Performance measure of Test Data on Trained Model with optimal value of lambda\n",
    "#apply LogisticRegression,l1 reg ,with performace weighted matrix f1_score on Avg_word2vec with optimal value of lambda \n",
    "clf = LogisticRegression(C=Avg_word2vec_optimal_lambda, penalty='l1');\n",
    "clf.fit(Standardize_X_tr_sent_vectors, y_tr);\n",
    "# predict the response\n",
    "pred = clf.predict(Standardize_X_test_sent_vectors)\n",
    "\n",
    "# evaluate weighted f1_score\n",
    "sc = f1_score(y_test, pred,average=\"weighted\") * 100\n",
    "print('\\nThe weighted f1_score of the LogisticRegression with l1 for C = %f  is %f%%' % (Avg_word2vec_optimal_lambda, sc))"
   ]
  },
  {
   "cell_type": "code",
   "execution_count": 100,
   "metadata": {},
   "outputs": [
    {
     "name": "stdout",
     "output_type": "stream",
     "text": [
      "\n",
      "The f1_score of the LogisticRegression with l1 for C = 100.000000  is 94.433520%\n"
     ]
    }
   ],
   "source": [
    "#apply LogisticRegression,l1 reg ,with performace matrix f1_score on Avg_word2vec with optimal value of lambda \n",
    "clf = LogisticRegression(C=Avg_word2vec_optimal_lambda, penalty='l1');\n",
    "clf.fit(Standardize_X_tr_sent_vectors, y_tr);\n",
    "# predict the response\n",
    "pred = clf.predict(Standardize_X_test_sent_vectors)\n",
    "\n",
    "# evaluate f1_score\n",
    "sc = f1_score(y_test, pred) * 100\n",
    "print('\\nThe f1_score of the LogisticRegression with l1 for C = %f  is %f%%' % (Avg_word2vec_optimal_lambda, sc))"
   ]
  },
  {
   "cell_type": "code",
   "execution_count": 101,
   "metadata": {},
   "outputs": [
    {
     "name": "stdout",
     "output_type": "stream",
     "text": [
      "\n",
      "The  precision of the LogisticRegression with l1 for C = 100.000000  is 91.200170%\n"
     ]
    }
   ],
   "source": [
    "#apply LogisticRegression,l1 reg ,with performace matrix precision on Avg_word2vec with optimal value of lambda \n",
    "clf = LogisticRegression(C=Avg_word2vec_optimal_lambda, penalty='l1');\n",
    "clf.fit(Standardize_X_tr_sent_vectors, y_tr);\n",
    "# predict the response\n",
    "pred = clf.predict(Standardize_X_test_sent_vectors)\n",
    "\n",
    "# evaluate precision_score\n",
    "sc = precision_score(y_test, pred) * 100\n",
    "print('\\nThe  precision of the LogisticRegression with l1 for C = %f  is %f%%' % (Avg_word2vec_optimal_lambda, sc))"
   ]
  },
  {
   "cell_type": "code",
   "execution_count": 39,
   "metadata": {},
   "outputs": [
    {
     "name": "stdout",
     "output_type": "stream",
     "text": [
      "\n",
      "The  recall_score of the LogisticRegression with l1 for C = 100.000000  is 96.869973%\n",
      "\n",
      "fitting the model with l1 the Sparsity W  is 50\n"
     ]
    }
   ],
   "source": [
    "#apply LogisticRegression,l1 reg ,with performace matrix recall_score on Avg_word2vec with optimal value of lambda \n",
    "clf = LogisticRegression(C=Avg_word2vec_optimal_lambda, penalty='l1');\n",
    "clf.fit(Standardize_X_tr_sent_vectors, y_tr);\n",
    "# predict the recall_score\n",
    "pred = clf.predict(Standardize_X_test_sent_vectors)\n",
    "\n",
    "# evaluate recall_score\n",
    "sc = recall_score(y_test, pred) * 100\n",
    "print('\\nThe  recall_score of the LogisticRegression with l1 for C = %f  is %f%%' % (Avg_word2vec_optimal_lambda, sc))"
   ]
  },
  {
   "cell_type": "code",
   "execution_count": 29,
   "metadata": {},
   "outputs": [
    {
     "name": "stdout",
     "output_type": "stream",
     "text": [
      "\n",
      "The  confusion_matrix of the LogisticRegression with l1 for C = 100.000000 \n",
      "[[ 1334  2423]\n",
      " [  602 25641]]\n"
     ]
    },
    {
     "data": {
      "image/png": "[encoded data removed]",
      "text/plain": [
       "<Figure size 432x288 with 2 Axes>"
      ]
     },
     "metadata": {},
     "output_type": "display_data"
    }
   ],
   "source": [
    "#apply LogisticRegression,l1 reg ,with performace confusion_matrix on Avg_word2vec with optimal value of lambda \n",
    "clf = LogisticRegression(C=Avg_word2vec_optimal_lambda, penalty='l1');\n",
    "clf.fit(Standardize_X_tr_sent_vectors, y_tr);\n",
    "# predict the response\n",
    "pred = clf.predict(Standardize_X_test_sent_vectors)\n",
    "\n",
    "# evaluate confusion_matrix\n",
    "confusion_matrix_val = confusion_matrix(y_test, pred) \n",
    "print('\\nThe  confusion_matrix of the LogisticRegression with l1 for C = %f ' % (Avg_word2vec_optimal_lambda))\n",
    "print(confusion_matrix_val);\n",
    "\n",
    "cunfusion_lable = confusion_matrix_val\n",
    "ax = sns.heatmap(confusion_matrix_val,annot=cunfusion_lable, fmt='')"
   ]
  },
  {
   "cell_type": "code",
   "execution_count": 30,
   "metadata": {},
   "outputs": [
    {
     "name": "stdout",
     "output_type": "stream",
     "text": [
      "\n",
      " Test confusion_matrix for lambda = 100.000000 \n",
      "\n",
      "******* for Avg_word2vec *********\n",
      "\n",
      "****TPR is 97%\n",
      "\n",
      "****FPR is 64%\n",
      "\n",
      "****FNR is 2%\n",
      "\n",
      "****TNR is 35%\n"
     ]
    }
   ],
   "source": [
    "#apply LogisticRegression,l1 reg ,with performace confusion_matrix on Avg_word2vec with optimal value of lambda \n",
    "clf = LogisticRegression(C=Avg_word2vec_optimal_lambda, penalty='l1');\n",
    "clf.fit(Standardize_X_tr_sent_vectors, y_tr);\n",
    "# predict the response\n",
    "pred = clf.predict(Standardize_X_test_sent_vectors)\n",
    "# evaluate confusion_matrix\n",
    "tn, fp, fn, tp = confusion_matrix(y_test, pred).ravel() \n",
    "print(\"\\n Test confusion_matrix for lambda = %f \" %(Avg_word2vec_optimal_lambda))\n",
    "\n",
    "TPR = ((tp)/(fn+tp)) * float(100);\n",
    "FPR = (fp)/(tn+fp) * float(100);\n",
    "FNR = (fn)/(fn+tp) * float(100);\n",
    "TNR = (tn)/(tn+fp) * float(100)\n",
    "print('\\n******* for Avg_word2vec *********')\n",
    "print('\\n****TPR is %d%%' % (TPR))\n",
    "print('\\n****FPR is %d%%' % (FPR))\n",
    "print('\\n****FNR is %d%%' % (FNR))\n",
    "print('\\n****TNR is %d%%' % (TNR))"
   ]
  },
  {
   "cell_type": "markdown",
   "metadata": {},
   "source": [
    "******* Avg_word2vec Ends ***************\n"
   ]
  },
  {
   "cell_type": "markdown",
   "metadata": {},
   "source": [
    "### TF-IDF weighted Word2Vec"
   ]
  },
  {
   "cell_type": "code",
   "execution_count": 30,
   "metadata": {},
   "outputs": [],
   "source": [
    "# we are converting a dictionary with word as a key, and the idf as a value\n",
    "dictionary = dict(zip(tf_idf_vect.get_feature_names(), list(tf_idf_vect.idf_)))"
   ]
  },
  {
   "cell_type": "code",
   "execution_count": 31,
   "metadata": {},
   "outputs": [
    {
     "name": "stderr",
     "output_type": "stream",
     "text": [
      "100%|███████████████████████████████████████████████████████████████████████████| 49000/49000 [01:41<00:00, 480.42it/s]\n"
     ]
    },
    {
     "name": "stdout",
     "output_type": "stream",
     "text": [
      "49000\n",
      "50\n"
     ]
    }
   ],
   "source": [
    "# TF-IDF weighted Word2Vec\n",
    "tfidf_feat = tf_idf_vect.get_feature_names() # tfidf words/col-names\n",
    "# final_tf_idf is the sparse matrix with row= sentence, col=word and cell_val = tfidf\n",
    "\n",
    "X_tr_tfidf_sent_vectors = []; # the tfidf-w2v for each sentence/review is stored in this list\n",
    "row=0;\n",
    "for sent in tqdm(X_tr_list_of_sent): # for each review/sentence \n",
    "    sent_vec = np.zeros(50) # as word vectors are of zero length\n",
    "    weight_sum =0; # num of words with a valid vector in the sentence/review\n",
    "    for word in sent: # for each word in a review/sentence\n",
    "        if word in w2v_words:\n",
    "            vec = X_tr_w2v_model.wv[word]\n",
    "#             tf_idf = tf_idf_matrix[row, tfidf_feat.index(word)]\n",
    "            # to reduce the computation we are \n",
    "            # dictionary[word] = idf value of word in whole courpus\n",
    "            # sent.count(word) = tf valeus of word in this review\n",
    "            tf_idf = dictionary[word]*(sent.count(word)/len(sent))\n",
    "            sent_vec += (vec * tf_idf)\n",
    "            weight_sum += tf_idf\n",
    "    if weight_sum != 0:\n",
    "        sent_vec /= weight_sum\n",
    "    X_tr_tfidf_sent_vectors.append(sent_vec)\n",
    "    row += 1\n",
    "\n",
    "print(len(X_tr_tfidf_sent_vectors))\n",
    "print(len(X_tr_tfidf_sent_vectors[0]))"
   ]
  },
  {
   "cell_type": "code",
   "execution_count": 32,
   "metadata": {},
   "outputs": [
    {
     "name": "stderr",
     "output_type": "stream",
     "text": [
      "100%|███████████████████████████████████████████████████████████████████████████| 21000/21000 [00:48<00:00, 432.97it/s]\n"
     ]
    },
    {
     "name": "stdout",
     "output_type": "stream",
     "text": [
      "21000\n",
      "50\n"
     ]
    }
   ],
   "source": [
    "#--new way TF-IDF weighted Word2Vec for cv with train data \n",
    "# TF-IDF weighted Word2Vec\n",
    "tfidf_feat = tf_idf_vect.get_feature_names() # tfidf words/col-names\n",
    "# final_tf_idf is the sparse matrix with row= sentence, col=word and cell_val = tfidf\n",
    "\n",
    "X_cv_tfidf_sent_vectors = []; # the tfidf-w2v for each sentence/review is stored in this list\n",
    "row=0;\n",
    "for sent in tqdm(X_cv_list_of_sent): # for each review/sentence \n",
    "    sent_vec = np.zeros(50) # as word vectors are of zero length\n",
    "    weight_sum =0; # num of words with a valid vector in the sentence/review\n",
    "    for word in sent: # for each word in a review/sentence\n",
    "        if word in w2v_words:\n",
    "            vec = X_tr_w2v_model.wv[word]\n",
    "#             tf_idf = tf_idf_matrix[row, tfidf_feat.index(word)]\n",
    "            # to reduce the computation we are \n",
    "            # dictionary[word] = idf value of word in whole courpus\n",
    "            # sent.count(word) = tf valeus of word in this review\n",
    "            tf_idf = dictionary[word]*(sent.count(word)/len(sent))\n",
    "            sent_vec += (vec * tf_idf)\n",
    "            weight_sum += tf_idf\n",
    "    if weight_sum != 0:\n",
    "        sent_vec /= weight_sum\n",
    "    X_cv_tfidf_sent_vectors.append(sent_vec)\n",
    "    row += 1\n",
    "\n",
    "#--------------------------------------------------new way\n",
    "print(len(X_cv_tfidf_sent_vectors))\n",
    "print(len(X_cv_tfidf_sent_vectors[0]))"
   ]
  },
  {
   "cell_type": "code",
   "execution_count": 33,
   "metadata": {},
   "outputs": [
    {
     "name": "stderr",
     "output_type": "stream",
     "text": [
      "100%|███████████████████████████████████████████████████████████████████████████| 30000/30000 [01:15<00:00, 399.54it/s]\n"
     ]
    },
    {
     "name": "stdout",
     "output_type": "stream",
     "text": [
      "30000\n",
      "50\n"
     ]
    }
   ],
   "source": [
    "#--new way TF-IDF weighted Word2Vec for cv with train data \n",
    "   # TF-IDF weighted Word2Vec\n",
    "tfidf_feat = tf_idf_vect.get_feature_names() # tfidf words/col-names\n",
    "# final_tf_idf is the sparse matrix with row= sentence, col=word and cell_val = tfidf\n",
    "\n",
    "X_test_tfidf_sent_vectors = []; # the tfidf-w2v for each sentence/review is stored in this list\n",
    "row=0;\n",
    "for sent in tqdm(X_test_list_of_sent): # for each review/sentence \n",
    "    sent_vec = np.zeros(50) # as word vectors are of zero length\n",
    "    weight_sum =0; # num of words with a valid vector in the sentence/review\n",
    "    for word in sent: # for each word in a review/sentence\n",
    "        if word in w2v_words:\n",
    "            vec = X_tr_w2v_model.wv[word]\n",
    "#             tf_idf = tf_idf_matrix[row, tfidf_feat.index(word)]\n",
    "            # to reduce the computation we are \n",
    "            # dictionary[word] = idf value of word in whole courpus\n",
    "            # sent.count(word) = tf valeus of word in this review\n",
    "            tf_idf = dictionary[word]*(sent.count(word)/len(sent))\n",
    "            sent_vec += (vec * tf_idf)\n",
    "            weight_sum += tf_idf\n",
    "    if weight_sum != 0:\n",
    "        sent_vec /= weight_sum\n",
    "    X_test_tfidf_sent_vectors.append(sent_vec)\n",
    "    row += 1\n",
    "\n",
    "#--------------------------------------------------new way\n",
    "print(len(X_test_tfidf_sent_vectors))\n",
    "print(len(X_test_tfidf_sent_vectors[0]))"
   ]
  },
  {
   "cell_type": "markdown",
   "metadata": {},
   "source": [
    "### col-std on TF-IDF weighted w2vec"
   ]
  },
  {
   "cell_type": "code",
   "execution_count": 34,
   "metadata": {},
   "outputs": [],
   "source": [
    "scaler = StandardScaler(copy=True, with_mean=False, with_std=True)\n",
    "# print(scaler.fit(bow_x_tr))\n",
    "# print(scaler.mean_)\n",
    "Standardize_X_tr_tfidf_sent_vectors= scaler.fit_transform(X_tr_tfidf_sent_vectors)\n",
    "# print(Standardize_bow_x_tr)\n",
    "# print(scaler.mean_)\n",
    "Standardize_X_cv_tfidf_sent_vectors= scaler.fit_transform(X_cv_tfidf_sent_vectors)\n",
    "# print(Standardize_bow_x_cv)\n",
    "# print(scaler.mean_)\n",
    "Standardize_X_test_tfidf_sent_vectors= scaler.fit_transform(X_test_tfidf_sent_vectors)\n",
    "# print(Standardize_bow_x_test)\n",
    "# print(scaler.mean_)\n"
   ]
  },
  {
   "cell_type": "markdown",
   "metadata": {},
   "source": [
    "### GridSearchCV on TF-IDF weighted w2vec train data "
   ]
  },
  {
   "cell_type": "code",
   "execution_count": 110,
   "metadata": {},
   "outputs": [
    {
     "name": "stderr",
     "output_type": "stream",
     "text": [
      "C:\\Users\\nisha\\Anaconda3\\lib\\site-packages\\sklearn\\metrics\\classification.py:1135: UndefinedMetricWarning: F-score is ill-defined and being set to 0.0 in labels with no predicted samples.\n",
      "  'precision', 'predicted', average, warn_for)\n"
     ]
    },
    {
     "name": "stdout",
     "output_type": "stream",
     "text": [
      "LogisticRegression(C=1, class_weight=None, dual=False, fit_intercept=True,\n",
      "          intercept_scaling=1, max_iter=100, multi_class='ovr', n_jobs=1,\n",
      "          penalty='l2', random_state=None, solver='liblinear', tol=0.0001,\n",
      "          verbose=0, warm_start=False)\n",
      "0.8787264113920238\n"
     ]
    }
   ],
   "source": [
    "#code source: http://occam.olin.edu/sites/default/files/DataScienceMaterials/machine_learning_lecture_2/Machine%20Learning%20Lecture%202.html\n",
    "\n",
    "tuned_parameters = [{'C': [10**-4, 10**-2, 10**0, 10**2, 10**4]}]\n",
    "\n",
    "#Using GridSearchCV\n",
    "model = GridSearchCV(LogisticRegression(), tuned_parameters, scoring = 'f1_weighted', cv=5)\n",
    "model.fit(Standardize_X_tr_tfidf_sent_vectors, y_tr)\n",
    "\n",
    "print(model.best_estimator_)\n",
    "print(model.score(Standardize_X_cv_tfidf_sent_vectors, y_cv))"
   ]
  },
  {
   "cell_type": "markdown",
   "metadata": {},
   "source": [
    "#### with l1 reg logistic regression apply f1_score as performance matrix on train with cv data"
   ]
  },
  {
   "cell_type": "code",
   "execution_count": 35,
   "metadata": {},
   "outputs": [
    {
     "name": "stdout",
     "output_type": "stream",
     "text": [
      "\n",
      "The f1_score of the LogisticRegression with l1 for C = 1.000000  is 94.349841%\n",
      "\n",
      "fitting the model with l1 the Sparsity W  is 50\n"
     ]
    }
   ],
   "source": [
    "#with l1 reg logistic regression apply f1_score as performance matrix on train with cv data\n",
    "tfidf_weighted_word2vec_optimal_lambda = 1\n",
    "clf = LogisticRegression(C=tfidf_weighted_word2vec_optimal_lambda, penalty='l1');\n",
    "clf.fit(Standardize_X_tr_tfidf_sent_vectors, y_tr);\n",
    "w = clf.coef_\n",
    "# predict the response\n",
    "pred = clf.predict(Standardize_X_cv_tfidf_sent_vectors)\n",
    "\n",
    "# evaluate f1_score\n",
    "sc = f1_score(y_cv, pred) * 100\n",
    "print('\\nThe f1_score of the LogisticRegression with l1 for C = %f  is %f%%' % (tfidf_weighted_word2vec_optimal_lambda, sc))\n",
    "print('\\nfitting the model with l1 the Sparsity W  is %d' % (np.count_nonzero(w)))"
   ]
  },
  {
   "cell_type": "markdown",
   "metadata": {},
   "source": [
    "#### with l2 reg logistic regression apply f1_score as performance matrix on train with cv data"
   ]
  },
  {
   "cell_type": "code",
   "execution_count": 113,
   "metadata": {},
   "outputs": [
    {
     "name": "stdout",
     "output_type": "stream",
     "text": [
      "\n",
      "The f1_score of the LogisticRegression with l2 for C = 1.000000  is 94.399958%\n"
     ]
    }
   ],
   "source": [
    "#with l2 reg on logistic regression apply f1_score as performance matrix on train with cv data\n",
    "clf = LogisticRegression(C=tfidf_weighted_word2vec_optimal_lambda, penalty='l2');\n",
    "clf.fit(Standardize_X_tr_tfidf_sent_vectors, y_tr);\n",
    "w = clf.coef_\n",
    "# print(np.count_nonzero(w))\n",
    "# predict the response\n",
    "pred = clf.predict(Standardize_X_cv_tfidf_sent_vectors)\n",
    "\n",
    "# evaluate f1_score\n",
    "sc = f1_score(y_cv, pred) * 100\n",
    "print('\\nThe f1_score of the LogisticRegression with l2 for C = %f  is %f%%' % (tfidf_weighted_word2vec_optimal_lambda, sc))"
   ]
  },
  {
   "cell_type": "markdown",
   "metadata": {},
   "source": [
    "### With change in HyperParameter"
   ]
  },
  {
   "cell_type": "code",
   "execution_count": 128,
   "metadata": {},
   "outputs": [],
   "source": [
    "#Applying L1 reg with change in lambda\n",
    "i= 0.0001;\n",
    "Sparsity_list = []\n",
    "lambda_list = []\n",
    "performance_list = []\n",
    "while i< 100:\n",
    "    clf = LogisticRegression(C=i, penalty='l1');\n",
    "    clf.fit(Standardize_X_tr_tfidf_sent_vectors, y_tr);\n",
    "    w = clf.coef_\n",
    "    # predict the response\n",
    "    pred = clf.predict(Standardize_X_cv_tfidf_sent_vectors)\n",
    "\n",
    "    # evaluate f1_score\n",
    "    sc = f1_score(y_cv, pred) * 100\n",
    "#     print(\"-------------------------------------------------------\")\n",
    "#     print('\\nThe f1_score of the LogisticRegression with l1 for C = %f  is %f%%' % (i, sc))\n",
    "#     print('\\nfitting the model with l1 the Sparsity W  is %d' % (np.count_nonzero(w)))\n",
    "    Sparsity_list.append(np.count_nonzero(w))\n",
    "    lambda_list.append(i)\n",
    "    performance_list.append(sc)\n",
    "    i=i*10; "
   ]
  },
  {
   "cell_type": "markdown",
   "metadata": {},
   "source": [
    "#### Graph for feature_count(Sparsity) with increase in lambda value"
   ]
  },
  {
   "cell_type": "code",
   "execution_count": 129,
   "metadata": {},
   "outputs": [
    {
     "data": {
      "image/png": "[encoded data removed]",
      "text/plain": [
       "<Figure size 432x288 with 1 Axes>"
      ]
     },
     "metadata": {},
     "output_type": "display_data"
    },
    {
     "name": "stdout",
     "output_type": "stream",
     "text": [
      "[0.0001, 0.001, 0.01, 0.1, 1.0, 10.0]\n",
      "[4, 15, 40, 49, 50, 50]\n"
     ]
    }
   ],
   "source": [
    "#Graph for feature_count(Sparsity) with increase in lambda value\n",
    "plt.plot(lambda_list, Sparsity_list, 'ks--',label='Sparsity')\n",
    "plt.xlabel('lambda')\n",
    "plt.ylabel('feature_count')\n",
    "plt.title(\"Sparsity Graph\")\n",
    "plt.legend()\n",
    "plt.show()\n",
    "print(lambda_list)\n",
    "print(Sparsity_list)"
   ]
  },
  {
   "cell_type": "markdown",
   "metadata": {},
   "source": [
    "#### Graph for performance of the model with increase(change) in lambda value"
   ]
  },
  {
   "cell_type": "code",
   "execution_count": 130,
   "metadata": {},
   "outputs": [
    {
     "data": {
      "image/png": "[encoded data removed]",
      "text/plain": [
       "<Figure size 432x288 with 1 Axes>"
      ]
     },
     "metadata": {},
     "output_type": "display_data"
    },
    {
     "name": "stdout",
     "output_type": "stream",
     "text": [
      "[0.0001, 0.001, 0.01, 0.1, 1.0, 10.0]\n",
      "[93.42676517632722, 93.63560204107539, 94.13073281771386, 94.1705902244882, 94.18441193314936, 94.18410913256274]\n"
     ]
    }
   ],
   "source": [
    "#Graph for performance of the model with increase(change) in lambda value\n",
    "plt.plot(lambda_list, performance_list, 'b^--' ,label='performance')\n",
    "plt.xlabel('lambda')\n",
    "plt.ylabel('performance_list')\n",
    "plt.title(\"Performance Graph \")\n",
    "plt.legend()\n",
    "plt.grid()\n",
    "plt.show()\n",
    "print(lambda_list)\n",
    "print(performance_list)"
   ]
  },
  {
   "cell_type": "markdown",
   "metadata": {},
   "source": [
    "### RandomizedSearchCV on train data for getting optimal lambda"
   ]
  },
  {
   "cell_type": "code",
   "execution_count": 118,
   "metadata": {},
   "outputs": [
    {
     "name": "stdout",
     "output_type": "stream",
     "text": [
      "LogisticRegression(C=7.956448892311745, class_weight=None, dual=False,\n",
      "          fit_intercept=True, intercept_scaling=1, max_iter=100,\n",
      "          multi_class='ovr', n_jobs=1, penalty='l2', random_state=None,\n",
      "          solver='liblinear', tol=0.0001, verbose=0, warm_start=False)\n",
      "0.8788397673091582\n"
     ]
    }
   ],
   "source": [
    "#RandomizedSearchCV on train data for getting optimal lambda\n",
    "from sklearn.model_selection import RandomizedSearchCV\n",
    "Randomized_parameters = {'C': np.random.uniform(0.0001,10,10000)}\n",
    "\n",
    "#Using GridSearchCV\n",
    "model = RandomizedSearchCV(LogisticRegression(), Randomized_parameters, scoring = 'f1_weighted', cv=5)\n",
    "model.fit(Standardize_X_tr_tfidf_sent_vectors, y_tr)\n",
    "\n",
    "print(model.best_estimator_)\n",
    "print(model.score(Standardize_X_cv_tfidf_sent_vectors, y_cv))"
   ]
  },
  {
   "cell_type": "markdown",
   "metadata": {},
   "source": [
    "### Performance measure of Test Data on Trained Model with optimal value of lambda"
   ]
  },
  {
   "cell_type": "code",
   "execution_count": 119,
   "metadata": {},
   "outputs": [
    {
     "name": "stdout",
     "output_type": "stream",
     "text": [
      "\n",
      "The weighted f1_score of the LogisticRegression with l1 for C = 1.000000  is 86.887052%\n"
     ]
    }
   ],
   "source": [
    "#apply LogisticRegression,l1 reg ,with performace weighted f1_score on TF-IDF weighted word2vec with optimal value of lambda \n",
    "clf = LogisticRegression(C=tfidf_weighted_word2vec_optimal_lambda, penalty='l1');\n",
    "clf.fit(Standardize_X_tr_tfidf_sent_vectors, y_tr);\n",
    "# predict the response\n",
    "pred = clf.predict(Standardize_X_test_tfidf_sent_vectors)\n",
    "\n",
    "# evaluate weighted f1_score\n",
    "sc = f1_score(y_test, pred,average=\"weighted\") * 100\n",
    "print('\\nThe weighted f1_score of the LogisticRegression with l1 for C = %f  is %f%%' % (tfidf_weighted_word2vec_optimal_lambda, sc))"
   ]
  },
  {
   "cell_type": "code",
   "execution_count": 120,
   "metadata": {},
   "outputs": [
    {
     "name": "stdout",
     "output_type": "stream",
     "text": [
      "\n",
      "The f1_score of the LogisticRegression with l1 for C = 1.000000  is 93.988093%\n"
     ]
    }
   ],
   "source": [
    "#apply LogisticRegression,l1 reg ,with performace matrix f1_score on TF-IDF weighted word2vec with optimal value of lambda \n",
    "clf = LogisticRegression(C=tfidf_weighted_word2vec_optimal_lambda, penalty='l1');\n",
    "clf.fit(Standardize_X_tr_tfidf_sent_vectors, y_tr);\n",
    "# predict the response\n",
    "pred = clf.predict(Standardize_X_test_tfidf_sent_vectors)\n",
    "\n",
    "# evaluate f1_score\n",
    "sc = f1_score(y_test, pred) * 100\n",
    "print('\\nThe f1_score of the LogisticRegression with l1 for C = %f  is %f%%' % (tfidf_weighted_word2vec_optimal_lambda, sc))"
   ]
  },
  {
   "cell_type": "code",
   "execution_count": 42,
   "metadata": {},
   "outputs": [
    {
     "name": "stdout",
     "output_type": "stream",
     "text": [
      "\n",
      "The precision_score of the LogisticRegression with l1 for C = 100.000000  is 90.151250%\n"
     ]
    }
   ],
   "source": [
    "#apply LogisticRegression,l1 reg ,with performace matrix precision_score on TF-IDF weighted word2vec with optimal value of lambda \n",
    "clf = LogisticRegression(C=tfidf_weighted_word2vec_optimal_lambda, penalty='l1');\n",
    "clf.fit(Standardize_X_tr_tfidf_sent_vectors, y_tr);\n",
    "# predict the response\n",
    "pred = clf.predict(Standardize_X_test_tfidf_sent_vectors)\n",
    "\n",
    "# evaluate precision_score\n",
    "sc = precision_score(y_test, pred) * 100\n",
    "print('\\nThe precision_score of the LogisticRegression with l1 for C = %f  is %f%%' % (tfidf_weighted_word2vec_optimal_lambda, sc))"
   ]
  },
  {
   "cell_type": "code",
   "execution_count": 121,
   "metadata": {},
   "outputs": [
    {
     "name": "stdout",
     "output_type": "stream",
     "text": [
      "\n",
      "The recall_score of the LogisticRegression with l1 for C = 1.000000  is 98.056625%\n"
     ]
    }
   ],
   "source": [
    "#apply LogisticRegression,l1 reg ,with performace matrix recall_score on TF-IDF weighted word2vec with optimal value of lambda \n",
    "clf = LogisticRegression(C=tfidf_weighted_word2vec_optimal_lambda, penalty='l1');\n",
    "clf.fit(Standardize_X_tr_tfidf_sent_vectors, y_tr);\n",
    "# predict the response\n",
    "pred = clf.predict(Standardize_X_test_tfidf_sent_vectors)\n",
    "\n",
    "# evaluate recall_score\n",
    "sc = recall_score(y_test, pred) * 100\n",
    "print('\\nThe recall_score of the LogisticRegression with l1 for C = %f  is %f%%' % (tfidf_weighted_word2vec_optimal_lambda, sc))\n"
   ]
  },
  {
   "cell_type": "code",
   "execution_count": 38,
   "metadata": {},
   "outputs": [
    {
     "name": "stdout",
     "output_type": "stream",
     "text": [
      "\n",
      "The  confusion_matrix of the LogisticRegression with l1 for C = 1.000000 \n",
      "[[ 1007  2750]\n",
      " [  493 25750]]\n"
     ]
    },
    {
     "data": {
      "image/png": "[encoded data removed]",
      "text/plain": [
       "<Figure size 432x288 with 2 Axes>"
      ]
     },
     "metadata": {},
     "output_type": "display_data"
    }
   ],
   "source": [
    "#apply LogisticRegression,l1 reg ,with performace matrix confusion_matrix on TF-IDF weighted word2vec with optimal value of lambda \n",
    "clf = LogisticRegression(C=tfidf_weighted_word2vec_optimal_lambda, penalty='l1');\n",
    "clf.fit(Standardize_X_tr_tfidf_sent_vectors, y_tr);\n",
    "# predict the response\n",
    "pred = clf.predict(Standardize_X_test_tfidf_sent_vectors)\n",
    "\n",
    "# evaluate confusion_matrix\n",
    "confusion_matrix_val = confusion_matrix(y_test, pred)\n",
    "print('\\nThe  confusion_matrix of the LogisticRegression with l1 for C = %f ' % (tfidf_weighted_word2vec_optimal_lambda))\n",
    "print(confusion_matrix_val);\n",
    "\n",
    "cunfusion_lable = confusion_matrix_val\n",
    "ax = sns.heatmap(confusion_matrix_val,annot=cunfusion_lable, fmt='')"
   ]
  },
  {
   "cell_type": "code",
   "execution_count": 39,
   "metadata": {},
   "outputs": [
    {
     "name": "stdout",
     "output_type": "stream",
     "text": [
      "\n",
      " Test confusion_matrix for lambda = 1.000000 \n",
      "\n",
      "******* for Avg_word2vec *********\n",
      "\n",
      "****TPR is 98%\n",
      "\n",
      "****FPR is 73%\n",
      "\n",
      "****FNR is 1%\n",
      "\n",
      "****TNR is 26%\n"
     ]
    }
   ],
   "source": [
    "#apply LogisticRegression,l1 reg ,with performace confusion_matrix on TF-IDF weighted word2vec with optimal value of lambda \n",
    "clf = LogisticRegression(C=tfidf_weighted_word2vec_optimal_lambda, penalty='l1');\n",
    "clf.fit(Standardize_X_tr_tfidf_sent_vectors, y_tr);\n",
    "# predict the response\n",
    "pred = clf.predict(Standardize_X_test_tfidf_sent_vectors)\n",
    "# evaluate confusion_matrix\n",
    "tn, fp, fn, tp = confusion_matrix(y_test, pred).ravel() \n",
    "print(\"\\n Test confusion_matrix for lambda = %f \" %(tfidf_weighted_word2vec_optimal_lambda))\n",
    "\n",
    "TPR = ((tp)/(fn+tp)) * float(100);\n",
    "FPR = (fp)/(tn+fp) * float(100);\n",
    "FNR = (fn)/(fn+tp) * float(100);\n",
    "TNR = (tn)/(tn+fp) * float(100)\n",
    "print('\\n******* for Avg_word2vec *********')\n",
    "print('\\n****TPR is %d%%' % (TPR))\n",
    "print('\\n****FPR is %d%%' % (FPR))\n",
    "print('\\n****FNR is %d%%' % (FNR))\n",
    "print('\\n****TNR is %d%%' % (TNR))"
   ]
  },
  {
   "cell_type": "markdown",
   "metadata": {},
   "source": [
    "********* TF-IDF WEIGHTED W2VEC ENDS **********"
   ]
  },
  {
   "cell_type": "code",
   "execution_count": 40,
   "metadata": {},
   "outputs": [
    {
     "name": "stdout",
     "output_type": "stream",
     "text": [
      "+------------+-------+--------------+----------------+-------------+-------+--------+-----------+-----+-----+-----+-----+\n",
      "| Vectorizer | Model | GridsearchCV | RandomSearchCV | Weighted F1 |   F1  | Recall | precision | TPR | FPR | FNR | TNR |\n",
      "+------------+-------+--------------+----------------+-------------+-------+--------+-----------+-----+-----+-----+-----+\n",
      "|    BOW     |   LG  |     0.01     |      0.99      |    90.45    | 95.37 | 98.62  |    92.3   |  98 |  57 |  1  |  42 |\n",
      "|   TF-IDF   |   LG  |     100      |      7.84      |    86.64    | 95.36 | 98.68  |   89.97   |  98 |  77 |  1  |  22 |\n",
      "|  AVG W2V   |   LG  |     100      |      0.35      |    89.21    |  94.2 | 96.86  |   91.68   |  96 |  46 |  3  |  53 |\n",
      "| TF-IDF W2v |   LG  |     100      |      8.47      |    86.47    |   93  | 98.11  |   90.15   |  98 |  74 |  1  |  25 |\n",
      "+------------+-------+--------------+----------------+-------------+-------+--------+-----------+-----+-----+-----+-----+\n"
     ]
    }
   ],
   "source": [
    "from prettytable import PrettyTable\n",
    "x = PrettyTable()\n",
    "x.field_names = [\"Vectorizer\",\"Model\" ,\"GridsearchCV\",\"RandomSearchCV\", \"Weighted F1\",\"F1\",\"Recall\",\"precision\",\"TPR\",\"FPR\",\"FNR\",\"TNR\"]\n",
    "\n",
    "x.add_row([\"BOW\",\"LG\",0.01,0.99,90.45,95.37,98.62,92.3,98,57,1,42])\n",
    "x.add_row([\"TF-IDF\",\"LG\",100,7.84,86.64,95.36,98.68,89.97,98,77,1,22])\n",
    "x.add_row([\"AVG W2V\",\"LG\",100,0.35,89.21,94.20,96.86,91.68,96,46,3,53])\n",
    "x.add_row([\"TF-IDF W2v\",\"LG\",100,8.47,86.47,93,98.11,90.15,98,74,1,25])\n",
    "\n",
    "\n",
    "print(x)"
   ]
  },
  {
   "cell_type": "code",
   "execution_count": null,
   "metadata": {},
   "outputs": [],
   "source": []
  }
 ],
 "metadata": {
  "kernelspec": {
   "display_name": "Python 3",
   "language": "python",
   "name": "python3"
  },
  "language_info": {
   "codemirror_mode": {
    "name": "ipython",
    "version": 3
   },
   "file_extension": ".py",
   "mimetype": "text/x-python",
   "name": "python",
   "nbconvert_exporter": "python",
   "pygments_lexer": "ipython3",
   "version": "3.6.5"
  }
 },
 "nbformat": 4,
 "nbformat_minor": 2
}
